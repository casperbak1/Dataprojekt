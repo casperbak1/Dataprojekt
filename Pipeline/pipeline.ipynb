{
 "cells": [
  {
   "cell_type": "markdown",
   "id": "689b92d0",
   "metadata": {},
   "source": [
    "# Pipeline for calculating overbite"
   ]
  },
  {
   "cell_type": "markdown",
   "id": "753bd18d",
   "metadata": {},
   "source": [
    "## Initialization\n",
    "We assume that the images used for our pipeline is transformed and aligned to the standard of the images used in training. This can be done with a preprocessing function."
   ]
  },
  {
   "cell_type": "code",
   "execution_count": 5,
   "id": "df1a920e",
   "metadata": {},
   "outputs": [],
   "source": [
    "# Importing packages\n",
    "import os\n",
    "import torch\n",
    "import re\n",
    "import torchvision.transforms as T\n",
    "from collections import defaultdict\n",
    "from PIL import Image"
   ]
  },
  {
   "cell_type": "code",
   "execution_count": null,
   "id": "03cfb4a8",
   "metadata": {},
   "outputs": [
    {
     "ename": "FileNotFoundError",
     "evalue": "[Errno 2] No such file or directory: '/path/to/your/image_folder'",
     "output_type": "error",
     "traceback": [
      "\u001b[0;31m---------------------------------------------------------------------------\u001b[0m",
      "\u001b[0;31mFileNotFoundError\u001b[0m                         Traceback (most recent call last)",
      "Cell \u001b[0;32mIn[4], line 94\u001b[0m\n\u001b[1;32m     91\u001b[0m model_file  \u001b[38;5;241m=\u001b[39m \u001b[38;5;124m\"\u001b[39m\u001b[38;5;124mdetectron2_traced.pt\u001b[39m\u001b[38;5;124m\"\u001b[39m\n\u001b[1;32m     92\u001b[0m device      \u001b[38;5;241m=\u001b[39m \u001b[38;5;124m\"\u001b[39m\u001b[38;5;124mcuda\u001b[39m\u001b[38;5;124m\"\u001b[39m  \u001b[38;5;66;03m# or \"cpu\"\u001b[39;00m\n\u001b[0;32m---> 94\u001b[0m results \u001b[38;5;241m=\u001b[39m \u001b[43mestimation_of_keypoints\u001b[49m\u001b[43m(\u001b[49m\u001b[43mfolder\u001b[49m\u001b[43m,\u001b[49m\u001b[43m \u001b[49m\u001b[43mmodel_file\u001b[49m\u001b[43m,\u001b[49m\u001b[43m \u001b[49m\u001b[43mdevice\u001b[49m\u001b[43m)\u001b[49m\n\u001b[1;32m     95\u001b[0m \u001b[38;5;28;01mfor\u001b[39;00m group, inf \u001b[38;5;129;01min\u001b[39;00m results\u001b[38;5;241m.\u001b[39mitems():\n\u001b[1;32m     96\u001b[0m     \u001b[38;5;28mprint\u001b[39m(\u001b[38;5;124mf\u001b[39m\u001b[38;5;124m\"\u001b[39m\u001b[38;5;130;01m\\n\u001b[39;00m\u001b[38;5;124mGroup: \u001b[39m\u001b[38;5;132;01m{\u001b[39;00mgroup\u001b[38;5;132;01m}\u001b[39;00m\u001b[38;5;124m\"\u001b[39m)\n",
      "Cell \u001b[0;32mIn[4], line 75\u001b[0m, in \u001b[0;36mestimation_of_keypoints\u001b[0;34m(folder_path, model_path, device)\u001b[0m\n\u001b[1;32m     60\u001b[0m \u001b[38;5;28;01mdef\u001b[39;00m \u001b[38;5;21mestimation_of_keypoints\u001b[39m(folder_path, model_path, device\u001b[38;5;241m=\u001b[39m\u001b[38;5;124m'\u001b[39m\u001b[38;5;124mcpu\u001b[39m\u001b[38;5;124m'\u001b[39m):\n\u001b[1;32m     61\u001b[0m \u001b[38;5;250m    \u001b[39m\u001b[38;5;124;03m\"\"\"\u001b[39;00m\n\u001b[1;32m     62\u001b[0m \u001b[38;5;124;03m    1) Groups images in folder_path into quadruples by filename prefix.\u001b[39;00m\n\u001b[1;32m     63\u001b[0m \u001b[38;5;124;03m    2) Runs keypoint inference on each quadruple.\u001b[39;00m\n\u001b[0;32m   (...)\u001b[0m\n\u001b[1;32m     73\u001b[0m \u001b[38;5;124;03m         }\u001b[39;00m\n\u001b[1;32m     74\u001b[0m \u001b[38;5;124;03m    \"\"\"\u001b[39;00m\n\u001b[0;32m---> 75\u001b[0m     groups \u001b[38;5;241m=\u001b[39m \u001b[43mgroup_images_by_prefix\u001b[49m\u001b[43m(\u001b[49m\u001b[43mfolder_path\u001b[49m\u001b[43m)\u001b[49m\n\u001b[1;32m     76\u001b[0m     \u001b[38;5;28;01mif\u001b[39;00m \u001b[38;5;129;01mnot\u001b[39;00m groups:\n\u001b[1;32m     77\u001b[0m         \u001b[38;5;28mprint\u001b[39m(\u001b[38;5;124m\"\u001b[39m\u001b[38;5;124mNo groups of exactly four images found.\u001b[39m\u001b[38;5;124m\"\u001b[39m)\n",
      "Cell \u001b[0;32mIn[4], line 8\u001b[0m, in \u001b[0;36mgroup_images_by_prefix\u001b[0;34m(folder_path)\u001b[0m\n\u001b[1;32m      2\u001b[0m \u001b[38;5;250m\u001b[39m\u001b[38;5;124;03m\"\"\"\u001b[39;00m\n\u001b[1;32m      3\u001b[0m \u001b[38;5;124;03mScans folder_path for image files (.jpg/.jpeg/.png), and groups them by the prefix\u001b[39;00m\n\u001b[1;32m      4\u001b[0m \u001b[38;5;124;03m(stem without the last '_' segment). Returns only groups of exactly four images.\u001b[39;00m\n\u001b[1;32m      5\u001b[0m \u001b[38;5;124;03m\"\"\"\u001b[39;00m\n\u001b[1;32m      6\u001b[0m \u001b[38;5;66;03m# List all image files\u001b[39;00m\n\u001b[1;32m      7\u001b[0m files \u001b[38;5;241m=\u001b[39m [\n\u001b[0;32m----> 8\u001b[0m     f \u001b[38;5;28;01mfor\u001b[39;00m f \u001b[38;5;129;01min\u001b[39;00m \u001b[43mos\u001b[49m\u001b[38;5;241;43m.\u001b[39;49m\u001b[43mlistdir\u001b[49m\u001b[43m(\u001b[49m\u001b[43mfolder_path\u001b[49m\u001b[43m)\u001b[49m\n\u001b[1;32m      9\u001b[0m     \u001b[38;5;28;01mif\u001b[39;00m os\u001b[38;5;241m.\u001b[39mpath\u001b[38;5;241m.\u001b[39misfile(os\u001b[38;5;241m.\u001b[39mpath\u001b[38;5;241m.\u001b[39mjoin(folder_path, f))\n\u001b[1;32m     10\u001b[0m     \u001b[38;5;129;01mand\u001b[39;00m f\u001b[38;5;241m.\u001b[39mlower()\u001b[38;5;241m.\u001b[39mendswith((\u001b[38;5;124m'\u001b[39m\u001b[38;5;124m.png\u001b[39m\u001b[38;5;124m'\u001b[39m, \u001b[38;5;124m'\u001b[39m\u001b[38;5;124m.jpg\u001b[39m\u001b[38;5;124m'\u001b[39m, \u001b[38;5;124m'\u001b[39m\u001b[38;5;124m.jpeg\u001b[39m\u001b[38;5;124m'\u001b[39m))\n\u001b[1;32m     11\u001b[0m ]\n\u001b[1;32m     12\u001b[0m \u001b[38;5;66;03m# 2) group by prefix\u001b[39;00m\n\u001b[1;32m     13\u001b[0m groups \u001b[38;5;241m=\u001b[39m defaultdict(\u001b[38;5;28mlist\u001b[39m)\n",
      "\u001b[0;31mFileNotFoundError\u001b[0m: [Errno 2] No such file or directory: '/path/to/your/image_folder'"
     ]
    }
   ],
   "source": [
    "def group_images_by_prefix(folder_path):\n",
    "    \"\"\"\n",
    "    Scans folder_path for image files (.jpg/.jpeg/.png), and groups them by the prefix\n",
    "    (stem without the last '_' segment). Returns only groups of exactly four images.\n",
    "    \"\"\"\n",
    "    # List all image files\n",
    "    files = [\n",
    "        f for f in os.listdir(folder_path)\n",
    "        if os.path.isfile(os.path.join(folder_path, f))\n",
    "        and f.lower().endswith(('.png', '.jpg', '.jpeg'))\n",
    "    ]\n",
    "    # group by prefix\n",
    "    groups = defaultdict(list)\n",
    "    for fn in files:\n",
    "        # Fjern filendelsen og få filnavnets “stamme”\n",
    "        stem, _ = os.path.splitext(fn)\n",
    "        # Del kun på det første '_' og tag den første del\n",
    "        prefix = stem.split('_', 1)[0]\n",
    "        # Fjern alt, der ikke er A–Z, a–z eller 0–9\n",
    "        key = re.sub(r'[^A-Za-z0-9]', '', prefix)\n",
    "        # Tilføj til gruppen\n",
    "        groups[key].append(os.path.join(folder_path, fn))\n",
    "    # 3) keep only groups of exactly 4\n",
    "    return {\n",
    "        key: sorted(paths)\n",
    "        for key, paths in groups.items()\n",
    "        if len(paths) == 4\n",
    "    }\n",
    "\n",
    "def load_model(model_path, device='cpu'):\n",
    "    \"\"\"Load the TorchScript Keypoint R-CNN once.\"\"\"\n",
    "    model = torch.jit.load(model_path, map_location=device)\n",
    "    model.eval()\n",
    "    return model\n",
    "\n",
    "def infer_on_quadruple(image_paths, model, device='cpu'):\n",
    "    \"\"\"\n",
    "    Runs inference on exactly four images at once,\n",
    "    returns a dict { filename: (rows_list, cols_list) }.\n",
    "    \"\"\"\n",
    "    inputs = []\n",
    "    for path in image_paths:\n",
    "        img = Image.open(path).convert(\"RGB\")\n",
    "        tensor = transform(img).to(device)\n",
    "        inputs.append({\n",
    "            \"image\": tensor,\n",
    "            \"height\": tensor.shape[1],\n",
    "            \"width\":  tensor.shape[2],\n",
    "        })\n",
    "\n",
    "    with torch.no_grad():\n",
    "        outputs = model(inputs)\n",
    "\n",
    "    results = {}\n",
    "    for path, out in zip(image_paths, outputs):\n",
    "        kpts = out[\"instances\"].pred_keypoints  # [N_instances, K, 3]\n",
    "        coords = kpts[..., :2].round().to(torch.int64).view(-1, 2)\n",
    "        xs = coords[:, 0].tolist()\n",
    "        ys = coords[:, 1].tolist()\n",
    "        results[os.path.basename(path)] = (ys, xs)\n",
    "\n",
    "    return results\n",
    "\n",
    "def estimation_of_keypoints(folder_path, model_path, device='cpu'):\n",
    "    \"\"\"\n",
    "    1) Groups images in folder_path into quadruples by filename prefix.\n",
    "    2) Runs keypoint inference on each quadruple.\n",
    "    3) Returns a dict:\n",
    "         {\n",
    "           \"group_prefix1\": {\n",
    "               \"img1.jpg\": ([y1,y2,…], [x1,x2,…]),\n",
    "               \"img2.jpg\": …,\n",
    "               …\n",
    "           },\n",
    "           \"group_prefix2\": { … },\n",
    "           …\n",
    "         }\n",
    "    \"\"\"\n",
    "    groups = group_images_by_prefix(folder_path)\n",
    "    if not groups:\n",
    "        print(\"No groups of exactly four images found.\")\n",
    "        return {}\n",
    "\n",
    "    model     = load_model(model_path, device)\n",
    "\n",
    "    all_results = {}\n",
    "    for prefix, paths in groups.items():\n",
    "        all_results[prefix] = infer_on_quadruple(paths, model, device)\n",
    "\n",
    "    return all_results\n",
    "\n"
   ]
  },
  {
   "cell_type": "code",
   "execution_count": null,
   "id": "7be3bbdd",
   "metadata": {},
   "outputs": [],
   "source": [
    "# Example usage:\n",
    "folder      = \"/path/to/your/image_folder\"\n",
    "model_file  = \"detectron2_traced.pt\"\n",
    "device      = \"cuda\"  # or \"cpu\"\n",
    "results = estimation_of_keypoints(folder, model_file, device)\n",
    "for group, inf in results.items():\n",
    "    print(f\"\\nGroup: {group}\")\n",
    "    for img_name, (rows, cols) in inf.items():\n",
    "        print(f\"  {img_name}: {len(rows)} keypoints — sample: {list(zip(rows,cols))[:5]}\")"
   ]
  }
 ],
 "metadata": {
  "kernelspec": {
   "display_name": "Python 3",
   "language": "python",
   "name": "python3"
  },
  "language_info": {
   "codemirror_mode": {
    "name": "ipython",
    "version": 3
   },
   "file_extension": ".py",
   "mimetype": "text/x-python",
   "name": "python",
   "nbconvert_exporter": "python",
   "pygments_lexer": "ipython3",
   "version": "3.12.2"
  }
 },
 "nbformat": 4,
 "nbformat_minor": 5
}
