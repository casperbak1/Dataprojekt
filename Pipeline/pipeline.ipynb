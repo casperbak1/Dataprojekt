{
 "cells": [
  {
   "cell_type": "markdown",
   "id": "689b92d0",
   "metadata": {},
   "source": [
    "# Pipeline for calculating overbite"
   ]
  },
  {
   "cell_type": "markdown",
   "id": "753bd18d",
   "metadata": {},
   "source": [
    "## Initialization\n",
    "We assume that the images used for our pipeline is transformed and aligned to the standard of the images used in training. This can be done with a preprocessing function."
   ]
  },
  {
   "cell_type": "code",
   "execution_count": 1,
   "id": "df1a920e",
   "metadata": {},
   "outputs": [],
   "source": [
    "# Importing packages\n",
    "import os\n",
    "import torch\n",
    "import re\n",
    "import torchvision.transforms as T\n",
    "from collections import defaultdict\n",
    "from PIL import Image"
   ]
  },
  {
   "cell_type": "markdown",
   "id": "0cce692c",
   "metadata": {},
   "source": [
    "# Opdeling af billeder i Lower/Upper og Left/Right/Middle "
   ]
  },
  {
   "cell_type": "code",
   "execution_count": 3,
   "id": "7be3bbdd",
   "metadata": {},
   "outputs": [
    {
     "name": "stdout",
     "output_type": "stream",
     "text": [
      "Loaded 2 images from Pipeline_data\\Raw_data: ['DEBDX44O_lower_combined.png', 'DEBDX44O_upper_combined.png']\n",
      "✅ All images have dimensions: 3072x1024\n",
      "✅ Processed 2 images and saved to Pipeline_data\\Clean Data\n"
     ]
    }
   ],
   "source": [
    "%run Opdeling_og_flip_af_billeder.py"
   ]
  },
  {
   "cell_type": "markdown",
   "id": "3cb49302",
   "metadata": {},
   "source": [
    "# Indlæs den trænede model og kør modellen"
   ]
  },
  {
   "cell_type": "code",
   "execution_count": 9,
   "id": "e4a85060",
   "metadata": {},
   "outputs": [
    {
     "name": "stdout",
     "output_type": "stream",
     "text": [
      "torch:  2.6 ; cuda:  cu121\n",
      "detectron2: 0.6\n",
      "\u001b[32m[05/14 15:48:05 d2.checkpoint.detection_checkpoint]: \u001b[0m[DetectionCheckpointer] Loading from output/Overbite_Model/model_0009999.pth ...\n",
      "Model reloaded successfully!\n"
     ]
    },
    {
     "name": "stderr",
     "output_type": "stream",
     "text": [
      "c:\\STUDIE\\4. Semester\\Dataprojekt\\detectron2_env\\Lib\\site-packages\\torch\\functional.py:539: UserWarning: torch.meshgrid: in an upcoming release, it will be required to pass the indexing argument. (Triggered internally at C:\\actions-runner\\_work\\pytorch\\pytorch\\builder\\windows\\pytorch\\aten\\src\\ATen\\native\\TensorShape.cpp:3612.)\n",
      "  return _VF.meshgrid(tensors, **kwargs)  # type: ignore[attr-defined]\n"
     ]
    },
    {
     "name": "stdout",
     "output_type": "stream",
     "text": [
      "✅ Final results saved to: Predicted_keypoints.csv\n"
     ]
    }
   ],
   "source": [
    "%run Run_model.py"
   ]
  },
  {
   "cell_type": "markdown",
   "id": "d89935af",
   "metadata": {},
   "source": [
    "# Pixelmatrix på data "
   ]
  },
  {
   "cell_type": "code",
   "execution_count": 11,
   "id": "25d44a63",
   "metadata": {},
   "outputs": [
    {
     "name": "stderr",
     "output_type": "stream",
     "text": [
      "100%|██████████| 4/4 [00:01<00:00,  3.77it/s]"
     ]
    },
    {
     "name": "stdout",
     "output_type": "stream",
     "text": [
      "Saved refined results to Predicted_keypoints_pixel_matrix.csv\n"
     ]
    },
    {
     "name": "stderr",
     "output_type": "stream",
     "text": [
      "\n"
     ]
    }
   ],
   "source": [
    "%run Pixelmatrix.py "
   ]
  }
 ],
 "metadata": {
  "kernelspec": {
   "display_name": "detectron2_env",
   "language": "python",
   "name": "python3"
  },
  "language_info": {
   "codemirror_mode": {
    "name": "ipython",
    "version": 3
   },
   "file_extension": ".py",
   "mimetype": "text/x-python",
   "name": "python",
   "nbconvert_exporter": "python",
   "pygments_lexer": "ipython3",
   "version": "3.11.11"
  }
 },
 "nbformat": 4,
 "nbformat_minor": 5
}
