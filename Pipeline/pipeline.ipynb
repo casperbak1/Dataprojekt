{
 "cells": [
  {
   "cell_type": "markdown",
   "id": "689b92d0",
   "metadata": {},
   "source": [
    "# Pipeline for calculating overbite"
   ]
  },
  {
   "cell_type": "markdown",
   "id": "753bd18d",
   "metadata": {},
   "source": [
    "## Initialization"
   ]
  },
  {
   "cell_type": "code",
   "execution_count": 1,
   "id": "df1a920e",
   "metadata": {},
   "outputs": [],
   "source": [
    "# Importing packages\n",
    "import os\n",
    "import torch\n",
    "import re\n",
    "import torchvision.transforms as T\n",
    "from collections import defaultdict\n",
    "from PIL import Image"
   ]
  },
  {
   "cell_type": "code",
   "execution_count": 2,
   "id": "da28752e-7e2b-47f7-b42e-875da7e6fda5",
   "metadata": {},
   "outputs": [
    {
     "name": "stdout",
     "output_type": "stream",
     "text": [
      "torch:  1.13 ; cuda:  cu117\n",
      "detectron2: 0.6\n"
     ]
    }
   ],
   "source": [
    "import torch, detectron2\n",
    "TORCH_VERSION = \".\".join(torch.__version__.split(\".\")[:2])\n",
    "CUDA_VERSION = torch.__version__.split(\"+\")[-1]\n",
    "print(\"torch: \", TORCH_VERSION, \"; cuda: \", CUDA_VERSION)\n",
    "print(\"detectron2:\", detectron2.__version__)"
   ]
  },
  {
   "cell_type": "markdown",
   "id": "4951674d",
   "metadata": {},
   "source": [
    "# Generatig png from ply file"
   ]
  },
  {
   "cell_type": "code",
   "execution_count": 3,
   "id": "1fcfc2d8-17ad-46ec-87d6-13df9e35269f",
   "metadata": {},
   "outputs": [
    {
     "name": "stdout",
     "output_type": "stream",
     "text": [
      "Jupyter environment detected. Enabling Open3D WebVisualizer.\n",
      "[Open3D INFO] WebRTC GUI backend enabled.\n",
      "[Open3D INFO] WebRTCWindowSystem: HTTP handshake server disabled.\n",
      "['Pipeline_data/Ply Files/Brunatest LowerJawScan.ply', 'Pipeline_data/Ply Files/Brunatest_UpperJawScan.ply']\n"
     ]
    },
    {
     "name": "stderr",
     "output_type": "stream",
     "text": [
      "/home/user/app/Pipeline_code/Ply_To_Image.py:16: UserWarning: Creating a tensor from a list of numpy.ndarrays is extremely slow. Please consider converting the list to a single numpy.ndarray with numpy.array() before converting to a tensor. (Triggered internally at ../torch/csrc/utils/tensor_new.cpp:230.)\n",
      "  vertices = torch.tensor(ply.vertices, dtype=torch.float32)\n"
     ]
    },
    {
     "name": "stdout",
     "output_type": "stream",
     "text": [
      "Brunatest LowerJawScan_0.png: Transposed and rotated 90° clockwise (Lower, ends in 0)\n",
      "Brunatest LowerJawScan_1.png: Rotated 90° clockwise (Lower, ends in 1)\n",
      "Brunatest_UpperJawScan_0.png: Rotated 90° clockwise (Upper, even)\n",
      "Brunatest_UpperJawScan_1.png: Flipped on X-axis and rotated 90° clockwise (Upper, odd)\n"
     ]
    }
   ],
   "source": [
    "%run Pipeline_code/Ply_To_Image.py"
   ]
  },
  {
   "cell_type": "markdown",
   "id": "0cce692c",
   "metadata": {},
   "source": [
    "# Opdeling af billeder i Lower/Upper og Left/Right/Middle "
   ]
  },
  {
   "cell_type": "code",
   "execution_count": 8,
   "id": "7be3bbdd",
   "metadata": {},
   "outputs": [
    {
     "name": "stdout",
     "output_type": "stream",
     "text": [
      "Loaded 2 images from Pipeline_data\\Raw_data\n",
      "✅ All images have dimensions: 3072x1024\n",
      "✅ Processed 2 images and saved to Pipeline_data\\Clean Data\n"
     ]
    }
   ],
   "source": [
    "# %run Pipeline_code/Opdeling_og_flip_af_billeder.py"
   ]
  },
  {
   "cell_type": "markdown",
   "id": "3cb49302",
   "metadata": {},
   "source": [
    "# Indlæs den trænede model og kør modellen"
   ]
  },
  {
   "cell_type": "code",
   "execution_count": 4,
   "id": "e4a85060",
   "metadata": {},
   "outputs": [
    {
     "name": "stdout",
     "output_type": "stream",
     "text": [
      "torch:  1.13 ; cuda:  cu117\n",
      "detectron2: 0.6\n",
      "\u001b[32m[06/03 15:44:00 d2.checkpoint.detection_checkpoint]: \u001b[0m[DetectionCheckpointer] Loading from Pipeline_data/Model/Final_model_0014999.pth ...\n",
      "Model reloaded successfully!\n"
     ]
    },
    {
     "name": "stderr",
     "output_type": "stream",
     "text": [
      "/usr/local/lib/python3.8/dist-packages/torch/functional.py:504: UserWarning: torch.meshgrid: in an upcoming release, it will be required to pass the indexing argument. (Triggered internally at ../aten/src/ATen/native/TensorShape.cpp:3190.)\n",
      "  return _VF.meshgrid(tensors, **kwargs)  # type: ignore[attr-defined]\n"
     ]
    },
    {
     "name": "stdout",
     "output_type": "stream",
     "text": [
      "Final results saved to: Pipeline_data/Predicted_keypoints.csv\n"
     ]
    }
   ],
   "source": [
    "%run Pipeline_code/Run_model.py"
   ]
  },
  {
   "cell_type": "markdown",
   "id": "d89935af",
   "metadata": {},
   "source": [
    "# Pixelmatrix på data "
   ]
  },
  {
   "cell_type": "code",
   "execution_count": 5,
   "id": "25d44a63",
   "metadata": {},
   "outputs": [
    {
     "name": "stderr",
     "output_type": "stream",
     "text": [
      "100%|███████████████████████████████████████████████████████████████████████████| 4/4 [00:01<00:00,  3.07it/s]"
     ]
    },
    {
     "name": "stdout",
     "output_type": "stream",
     "text": [
      "Saved refined results to Pipeline_data/Output_after_pixel_matrix/Predicted_keypoints_pixel_matrix.csv\n"
     ]
    },
    {
     "name": "stderr",
     "output_type": "stream",
     "text": [
      "\n"
     ]
    }
   ],
   "source": [
    "%run Pipeline_code/Pixelmatrix.py"
   ]
  }
 ],
 "metadata": {
  "kernelspec": {
   "display_name": "Python 3 (ipykernel)",
   "language": "python",
   "name": "python3"
  },
  "language_info": {
   "codemirror_mode": {
    "name": "ipython",
    "version": 3
   },
   "file_extension": ".py",
   "mimetype": "text/x-python",
   "name": "python",
   "nbconvert_exporter": "python",
   "pygments_lexer": "ipython3",
   "version": "3.8.10"
  }
 },
 "nbformat": 4,
 "nbformat_minor": 5
}
