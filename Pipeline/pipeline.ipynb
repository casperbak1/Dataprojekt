{
 "cells": [
  {
   "cell_type": "markdown",
   "id": "689b92d0",
   "metadata": {},
   "source": [
    "# Pipeline for calculating overbite"
   ]
  },
  {
   "cell_type": "markdown",
   "id": "753bd18d",
   "metadata": {},
   "source": [
    "## Initialization"
   ]
  },
  {
   "cell_type": "code",
   "execution_count": 3,
   "id": "df1a920e",
   "metadata": {},
   "outputs": [],
   "source": [
    "# Importing packages\n",
    "import os\n",
    "import torch\n",
    "import re\n",
    "import torchvision.transforms as T\n",
    "from collections import defaultdict\n",
    "from PIL import Image"
   ]
  },
  {
   "cell_type": "code",
   "execution_count": 1,
   "id": "da28752e-7e2b-47f7-b42e-875da7e6fda5",
   "metadata": {},
   "outputs": [
    {
     "name": "stdout",
     "output_type": "stream",
     "text": [
      "torch:  1.13 ; cuda:  cu117\n",
      "detectron2: 0.6\n"
     ]
    }
   ],
   "source": [
    "import torch, detectron2\n",
    "TORCH_VERSION = \".\".join(torch.__version__.split(\".\")[:2])\n",
    "CUDA_VERSION = torch.__version__.split(\"+\")[-1]\n",
    "print(\"torch: \", TORCH_VERSION, \"; cuda: \", CUDA_VERSION)\n",
    "print(\"detectron2:\", detectron2.__version__)"
   ]
  },
  {
   "cell_type": "markdown",
   "id": "4951674d",
   "metadata": {},
   "source": [
    "# Generatig png from ply file"
   ]
  },
  {
   "cell_type": "code",
   "execution_count": 2,
   "id": "1fcfc2d8-17ad-46ec-87d6-13df9e35269f",
   "metadata": {},
   "outputs": [
    {
     "name": "stdout",
     "output_type": "stream",
     "text": [
      "Jupyter environment detected. Enabling Open3D WebVisualizer.\n",
      "[Open3D INFO] WebRTC GUI backend enabled.\n",
      "[Open3D INFO] WebRTCWindowSystem: HTTP handshake server disabled.\n",
      "['Pipeline_data/Ply Files/Brunatest LowerJawScan.ply', 'Pipeline_data/Ply Files/Brunatest_UpperJawScan.ply']\n"
     ]
    },
    {
     "name": "stderr",
     "output_type": "stream",
     "text": [
      "/home/user/app/Pipeline_code/Ply_To_Image.py:16: UserWarning: Creating a tensor from a list of numpy.ndarrays is extremely slow. Please consider converting the list to a single numpy.ndarray with numpy.array() before converting to a tensor. (Triggered internally at ../torch/csrc/utils/tensor_new.cpp:230.)\n",
      "  vertices = torch.tensor(ply.vertices, dtype=torch.float32)\n"
     ]
    },
    {
     "name": "stdout",
     "output_type": "stream",
     "text": [
      "Brunatest LowerJawScan_0.png: Rotated 90° clockwise_1.png 1/2\n",
      "Brunatest LowerJawScan_1.png: Flipped on X-axis and rotated 90° clockwise\n",
      "Brunatest_UpperJawScan_0.png: Rotated 90° clockwise\n",
      "Brunatest_UpperJawScan_1.png: Flipped on X-axis and rotated 90° clockwise\n"
     ]
    }
   ],
   "source": [
    "%run Pipeline_code/Ply_To_Image.py"
   ]
  },
  {
   "cell_type": "markdown",
   "id": "0cce692c",
   "metadata": {},
   "source": [
    "# Opdeling af billeder i Lower/Upper og Left/Right/Middle "
   ]
  },
  {
   "cell_type": "code",
   "execution_count": 8,
   "id": "7be3bbdd",
   "metadata": {},
   "outputs": [
    {
     "name": "stdout",
     "output_type": "stream",
     "text": [
      "Loaded 2 images from Pipeline_data\\Raw_data\n",
      "✅ All images have dimensions: 3072x1024\n",
      "✅ Processed 2 images and saved to Pipeline_data\\Clean Data\n"
     ]
    }
   ],
   "source": [
    "# %run Pipeline_code/Opdeling_og_flip_af_billeder.py"
   ]
  },
  {
   "cell_type": "markdown",
   "id": "3cb49302",
   "metadata": {},
   "source": [
    "# Indlæs den trænede model og kør modellen"
   ]
  },
  {
   "cell_type": "code",
   "execution_count": 30,
   "id": "e4a85060",
   "metadata": {},
   "outputs": [
    {
     "name": "stdout",
     "output_type": "stream",
     "text": [
      "torch:  1.13 ; cuda:  cu117\n",
      "detectron2: 0.6\n",
      "\u001b[32m[05/21 11:53:47 d2.checkpoint.detection_checkpoint]: \u001b[0m[DetectionCheckpointer] Loading from Pipeline_data/Model/model_0054999.pth ...\n",
      "Model reloaded successfully!\n",
      "My Test dataset was removed\n",
      "✅ Final results saved to: Pipeline_data/Predicted_keypoints.csv\n"
     ]
    }
   ],
   "source": [
    "%run Pipeline_code/Run_model.py"
   ]
  },
  {
   "cell_type": "markdown",
   "id": "d89935af",
   "metadata": {},
   "source": [
    "# Pixelmatrix på data "
   ]
  },
  {
   "cell_type": "code",
   "execution_count": 31,
   "id": "25d44a63",
   "metadata": {},
   "outputs": [
    {
     "name": "stderr",
     "output_type": "stream",
     "text": [
      "100%|███████████████████████████████████████████████████████████████████████| 304/304 [00:26<00:00, 11.63it/s]"
     ]
    },
    {
     "name": "stdout",
     "output_type": "stream",
     "text": [
      "Saved refined results to Pipeline_data/Output_after_pixel_matrix/Predicted_keypoints_pixel_matrix.csv\n"
     ]
    },
    {
     "name": "stderr",
     "output_type": "stream",
     "text": [
      "\n"
     ]
    }
   ],
   "source": [
    "%run Pipeline_code/Pixelmatrix.py"
   ]
  },
  {
   "cell_type": "markdown",
   "id": "dce7e5f2-b5a0-43b6-9f14-f1f5115a6445",
   "metadata": {},
   "source": [
    "# Overbite"
   ]
  },
  {
   "cell_type": "code",
   "execution_count": 34,
   "id": "430610dd-7180-4d77-a218-d69916bd0e1a",
   "metadata": {},
   "outputs": [
    {
     "name": "stdout",
     "output_type": "stream",
     "text": [
      "Loading data...\n",
      "Extracting metadata from filenames...\n",
      "Separating upper and lower jaw entries...\n",
      "Merging upper and lower jaw data by Base_ID and Suffix...\n",
      "Found 152 matched upper-lower pairs.\n",
      "Calculating overbite for each pair...\n",
      "      Base_ID Suffix  Y_upper  Y_lower  overbite_pixel  overbite_mm\n",
      "0    013FHA7K   left      276      369              93         7.44\n",
      "1    013FHA7K  right      276      369              93         7.44\n",
      "2    013NUWYR   left      271      243             -28        -2.24\n",
      "3    013NUWYR  right      272      235             -37        -2.96\n",
      "4    013NXP1H   left      268      357              89         7.12\n",
      "..        ...    ...      ...      ...             ...          ...\n",
      "147  LA67YYVJ  right      352      436              84         6.72\n",
      "148  LGADV15G   left      261      350              89         7.12\n",
      "149  LGADV15G  right      262      353              91         7.28\n",
      "150  MNIAB8K3   left      266      336              70         5.60\n",
      "151  MNIAB8K3  right      259      332              73         5.84\n",
      "\n",
      "[152 rows x 6 columns]\n",
      "Averaging overbite per patient...\n",
      "\n",
      "Final summary:\n",
      "    Filename  Overbite_pixel_AVG  Overbite_mm_AVG Predicted_Class\n",
      "0   013FHA7K                93.0             7.44               E\n",
      "1   013NUWYR               -32.5            -2.60               A\n",
      "2   013NXP1H                96.5             7.72               E\n",
      "3   013TXGFK               106.5             8.52               E\n",
      "4   013ZD6EX                18.0             1.44               B\n",
      "..       ...                 ...              ...             ...\n",
      "71  KWWQJ60M                75.0             6.00               E\n",
      "72  LA67YYVJ                79.5             6.36               E\n",
      "73  LGADV15G                90.0             7.20               E\n",
      "74  MNIAB8K3                71.5             5.72               E\n",
      "75  ameziani                27.5             2.20               C\n",
      "\n",
      "[76 rows x 4 columns]\n",
      "\n",
      "✅ Patient-level summary saved to: Pipeline_data/patient_level_summary4.csv\n"
     ]
    }
   ],
   "source": [
    "%run Pipeline_code/Overbite.py"
   ]
  },
  {
   "cell_type": "code",
   "execution_count": null,
   "id": "eb999ea3-4e66-4198-973e-23317ac6ab7d",
   "metadata": {},
   "outputs": [],
   "source": []
  }
 ],
 "metadata": {
  "kernelspec": {
   "display_name": "Python 3 (ipykernel)",
   "language": "python",
   "name": "python3"
  },
  "language_info": {
   "codemirror_mode": {
    "name": "ipython",
    "version": 3
   },
   "file_extension": ".py",
   "mimetype": "text/x-python",
   "name": "python",
   "nbconvert_exporter": "python",
   "pygments_lexer": "ipython3",
   "version": "3.8.10"
  }
 },
 "nbformat": 4,
 "nbformat_minor": 5
}
