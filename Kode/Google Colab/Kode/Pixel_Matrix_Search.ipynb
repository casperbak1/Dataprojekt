{
 "cells": [
  {
   "cell_type": "markdown",
   "metadata": {},
   "source": [
    "## This section is after a model has been trained and tested\n",
    "### After a model has been tested and given some outputs, we define a search grid where we will be looking for:\n",
    "##### * The highest pixel\n",
    "##### * That is not black\n",
    "##### * And that is brightest (when multiple pixels have the same height)"
   ]
  },
  {
   "cell_type": "code",
   "execution_count": 2,
   "metadata": {},
   "outputs": [
    {
     "name": "stderr",
     "output_type": "stream",
     "text": [
      "[ WARN:0@0.742] global loadsave.cpp:241 findDecoder imread_('billede.jpg'): can't open/read file: check file path/integrity\n"
     ]
    },
    {
     "ename": "AttributeError",
     "evalue": "'NoneType' object has no attribute 'shape'",
     "output_type": "error",
     "traceback": [
      "\u001b[0;31m---------------------------------------------------------------------------\u001b[0m",
      "\u001b[0;31mAttributeError\u001b[0m                            Traceback (most recent call last)",
      "Cell \u001b[0;32mIn[2], line 44\u001b[0m\n\u001b[1;32m     41\u001b[0m x_found, y_found \u001b[38;5;241m=\u001b[39m \u001b[38;5;241m100\u001b[39m, \u001b[38;5;241m150\u001b[39m  \u001b[38;5;66;03m# Eksempelkoordinater\u001b[39;00m\n\u001b[1;32m     43\u001b[0m \u001b[38;5;66;03m# Find den lyseste pixel\u001b[39;00m\n\u001b[0;32m---> 44\u001b[0m x_brightest, y_brightest \u001b[38;5;241m=\u001b[39m find_brightest_pixel(image, x_found, y_found)\n\u001b[1;32m     46\u001b[0m \u001b[38;5;28mprint\u001b[39m(\u001b[38;5;124mf\u001b[39m\u001b[38;5;124m\"\u001b[39m\u001b[38;5;124mLyseste pixel fundet ved: (\u001b[39m\u001b[38;5;132;01m{\u001b[39;00mx_brightest\u001b[38;5;132;01m}\u001b[39;00m\u001b[38;5;124m, \u001b[39m\u001b[38;5;132;01m{\u001b[39;00my_brightest\u001b[38;5;132;01m}\u001b[39;00m\u001b[38;5;124m)\u001b[39m\u001b[38;5;124m\"\u001b[39m)\n",
      "Cell \u001b[0;32mIn[2], line 17\u001b[0m, in \u001b[0;36mfind_brightest_pixel\u001b[0;34m(image, x, y, search_size)\u001b[0m\n\u001b[1;32m      5\u001b[0m \u001b[38;5;250m\u001b[39m\u001b[38;5;124;03m\"\"\"\u001b[39;00m\n\u001b[1;32m      6\u001b[0m \u001b[38;5;124;03mFinder den lyseste pixel inden for en firkant på 20 pixels omkring (x, y).\u001b[39;00m\n\u001b[1;32m      7\u001b[0m \u001b[38;5;124;03mHvis flere pixels har samme lysstyrke, vælges den øverste på y-aksen.\u001b[39;00m\n\u001b[0;32m   (...)\u001b[0m\n\u001b[1;32m     13\u001b[0m \u001b[38;5;124;03m:return: (x_brightest, y_brightest) koordinater for den lyseste pixel\u001b[39;00m\n\u001b[1;32m     14\u001b[0m \u001b[38;5;124;03m\"\"\"\u001b[39;00m\n\u001b[1;32m     16\u001b[0m \u001b[38;5;66;03m# Henter billedets dimensioner\u001b[39;00m\n\u001b[0;32m---> 17\u001b[0m height, width \u001b[38;5;241m=\u001b[39m image\u001b[38;5;241m.\u001b[39mshape\n\u001b[1;32m     19\u001b[0m \u001b[38;5;66;03m# Definerer søgeområdet\u001b[39;00m\n\u001b[1;32m     20\u001b[0m x_min \u001b[38;5;241m=\u001b[39m \u001b[38;5;28mmax\u001b[39m(\u001b[38;5;241m0\u001b[39m, x \u001b[38;5;241m-\u001b[39m search_size)\n",
      "\u001b[0;31mAttributeError\u001b[0m: 'NoneType' object has no attribute 'shape'"
     ]
    }
   ],
   "source": [
    "import cv2\n",
    "import numpy as np\n",
    "\n",
    "def find_top_brightest_pixel(image, x, y, search_size=20, black_threshold=10):\n",
    "    \"\"\"\n",
    "    Finder den øverste ikke-sorte pixel i et 20x20 område omkring (x, y).\n",
    "    Hvis flere pixels har samme y-koordinat, vælges den lyseste.\n",
    "\n",
    "    :param image: Inputbillede (gråskala)\n",
    "    :param x: x-koordinat for startpunktet\n",
    "    :param y: y-koordinat for startpunktet\n",
    "    :param search_size: Størrelse af søgeområdet (default = 20)\n",
    "    :param black_threshold: Intensitet under dette betragtes som sort (default = 10)\n",
    "    :return: (x_best, y_best) koordinater for den fundne pixel\n",
    "    \"\"\"\n",
    "\n",
    "    height, width = image.shape\n",
    "\n",
    "    # Definerer search space (ROI)\n",
    "    x_min = max(0, x - search_size)\n",
    "    x_max = min(width, x + search_size)\n",
    "    y_min = max(0, y - search_size)\n",
    "    y_max = min(height, y + search_size)\n",
    "\n",
    "    # Variabler til at gemme bedste pixel\n",
    "    best_x, best_y = None, None\n",
    "    best_brightness = -1\n",
    "\n",
    "    # Gå igennem pixels fra top til bund i ROI\n",
    "    for y_scan in range(y_min, y_max):  # Starter fra toppen\n",
    "        for x_scan in range(x_min, x_max):\n",
    "            pixel_value = image[y_scan, x_scan]  # Hent pixelens lysstyrke\n",
    "\n",
    "            if pixel_value > black_threshold:  # Tjek om den ikke er sort\n",
    "                if best_y is None or y_scan < best_y or (y_scan == best_y and pixel_value > best_brightness):\n",
    "                    best_x, best_y = x_scan, y_scan\n",
    "                    best_brightness = pixel_value\n",
    "\n",
    "        # Hvis vi har fundet en ikke-sort pixel på denne linje, stopper vi\n",
    "        if best_y is not None:\n",
    "            break\n",
    "\n",
    "    return best_x, best_y if best_x is not None else (x, y)  # Returner fundet pixel eller original punkt\n",
    "\n",
    "# Indlæs billedet i gråskala\n",
    "image = cv2.imread(\"billede.jpg\", cv2.IMREAD_GRAYSCALE)\n",
    "\n",
    "# Startpunkt fundet af modellen\n",
    "x_found, y_found = 100, 150  # Eksempelkoordinater\n",
    "\n",
    "# Find den bedste pixel\n",
    "x_best, y_best = find_top_brightest_pixel(image, x_found, y_found)\n",
    "\n",
    "print(f\"Valgt pixel: ({x_best}, {y_best})\")\n",
    "\n"
   ]
  },
  {
   "cell_type": "markdown",
   "metadata": {},
   "source": []
  }
 ],
 "metadata": {
  "kernelspec": {
   "display_name": "Python_pakker",
   "language": "python",
   "name": "python3"
  },
  "language_info": {
   "codemirror_mode": {
    "name": "ipython",
    "version": 3
   },
   "file_extension": ".py",
   "mimetype": "text/x-python",
   "name": "python",
   "nbconvert_exporter": "python",
   "pygments_lexer": "ipython3",
   "version": "3.11.7"
  }
 },
 "nbformat": 4,
 "nbformat_minor": 2
}
