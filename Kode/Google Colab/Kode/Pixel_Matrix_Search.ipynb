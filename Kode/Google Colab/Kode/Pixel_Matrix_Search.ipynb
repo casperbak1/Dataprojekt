{
 "cells": [
  {
   "cell_type": "markdown",
   "metadata": {},
   "source": [
    "## This section is after a model has been trained and tested\n",
    "### After a model has been tested and given some outputs, we define a search grid where we will be looking for:\n",
    "##### * The highest pixel\n",
    "##### * That is not black\n",
    "##### * And that is brightest (when multiple pixels have the same height)"
   ]
  },
  {
   "cell_type": "code",
   "execution_count": 2,
   "metadata": {},
   "outputs": [
    {
     "name": "stderr",
     "output_type": "stream",
     "text": [
      "[ WARN:0@0.742] global loadsave.cpp:241 findDecoder imread_('billede.jpg'): can't open/read file: check file path/integrity\n"
     ]
    },
    {
     "ename": "AttributeError",
     "evalue": "'NoneType' object has no attribute 'shape'",
     "output_type": "error",
     "traceback": [
      "\u001b[0;31m---------------------------------------------------------------------------\u001b[0m",
      "\u001b[0;31mAttributeError\u001b[0m                            Traceback (most recent call last)",
      "Cell \u001b[0;32mIn[2], line 44\u001b[0m\n\u001b[1;32m     41\u001b[0m x_found, y_found \u001b[38;5;241m=\u001b[39m \u001b[38;5;241m100\u001b[39m, \u001b[38;5;241m150\u001b[39m  \u001b[38;5;66;03m# Eksempelkoordinater\u001b[39;00m\n\u001b[1;32m     43\u001b[0m \u001b[38;5;66;03m# Find den lyseste pixel\u001b[39;00m\n\u001b[0;32m---> 44\u001b[0m x_brightest, y_brightest \u001b[38;5;241m=\u001b[39m find_brightest_pixel(image, x_found, y_found)\n\u001b[1;32m     46\u001b[0m \u001b[38;5;28mprint\u001b[39m(\u001b[38;5;124mf\u001b[39m\u001b[38;5;124m\"\u001b[39m\u001b[38;5;124mLyseste pixel fundet ved: (\u001b[39m\u001b[38;5;132;01m{\u001b[39;00mx_brightest\u001b[38;5;132;01m}\u001b[39;00m\u001b[38;5;124m, \u001b[39m\u001b[38;5;132;01m{\u001b[39;00my_brightest\u001b[38;5;132;01m}\u001b[39;00m\u001b[38;5;124m)\u001b[39m\u001b[38;5;124m\"\u001b[39m)\n",
      "Cell \u001b[0;32mIn[2], line 17\u001b[0m, in \u001b[0;36mfind_brightest_pixel\u001b[0;34m(image, x, y, search_size)\u001b[0m\n\u001b[1;32m      5\u001b[0m \u001b[38;5;250m\u001b[39m\u001b[38;5;124;03m\"\"\"\u001b[39;00m\n\u001b[1;32m      6\u001b[0m \u001b[38;5;124;03mFinder den lyseste pixel inden for en firkant på 20 pixels omkring (x, y).\u001b[39;00m\n\u001b[1;32m      7\u001b[0m \u001b[38;5;124;03mHvis flere pixels har samme lysstyrke, vælges den øverste på y-aksen.\u001b[39;00m\n\u001b[0;32m   (...)\u001b[0m\n\u001b[1;32m     13\u001b[0m \u001b[38;5;124;03m:return: (x_brightest, y_brightest) koordinater for den lyseste pixel\u001b[39;00m\n\u001b[1;32m     14\u001b[0m \u001b[38;5;124;03m\"\"\"\u001b[39;00m\n\u001b[1;32m     16\u001b[0m \u001b[38;5;66;03m# Henter billedets dimensioner\u001b[39;00m\n\u001b[0;32m---> 17\u001b[0m height, width \u001b[38;5;241m=\u001b[39m image\u001b[38;5;241m.\u001b[39mshape\n\u001b[1;32m     19\u001b[0m \u001b[38;5;66;03m# Definerer søgeområdet\u001b[39;00m\n\u001b[1;32m     20\u001b[0m x_min \u001b[38;5;241m=\u001b[39m \u001b[38;5;28mmax\u001b[39m(\u001b[38;5;241m0\u001b[39m, x \u001b[38;5;241m-\u001b[39m search_size)\n",
      "\u001b[0;31mAttributeError\u001b[0m: 'NoneType' object has no attribute 'shape'"
     ]
    }
   ],
   "source": [
    "import cv2\n",
    "import numpy as np\n",
    "\n",
    "def find_brightest_pixel(image, x, y, search_size=20):\n",
    "    \"\"\"\n",
    "    Finder den lyseste pixel inden for en firkant på 20 pixels omkring (x, y).\n",
    "    Hvis flere pixels har samme lysstyrke, vælges den øverste på y-aksen.\n",
    "    \n",
    "    :param image: Inputbillede (gråskala)\n",
    "    :param x: x-koordinat for det fundne punkt\n",
    "    :param y: y-koordinat for det fundne punkt\n",
    "    :param search_size: Størrelse af søgeområdet (default = 20)\n",
    "    :return: (x_brightest, y_brightest) koordinater for den lyseste pixel\n",
    "    \"\"\"\n",
    "\n",
    "    # Henter billedets dimensioner\n",
    "    height, width = image.shape\n",
    "\n",
    "    # Definerer søgeområdet\n",
    "    x_min = max(0, x - search_size)\n",
    "    x_max = min(width, x + search_size)\n",
    "    y_min = max(0, y - search_size)\n",
    "    y_max = min(height, y + search_size)\n",
    "\n",
    "    # Udsnit af billedet\n",
    "    roi = image[y_min:y_max, x_min:x_max]\n",
    "\n",
    "    # Finder koordinater for den maksimale værdi i ROI\n",
    "    min_val, max_val, min_loc, max_loc = cv2.minMaxLoc(roi)\n",
    "\n",
    "    # Konverter relative koordinater til globale\n",
    "    x_brightest = x_min + max_loc[0]\n",
    "    y_brightest = y_min + max_loc[1]\n",
    "\n",
    "    return x_brightest, y_brightest\n",
    "\n",
    "# Indlæs billedet i gråskala\n",
    "image = cv2.imread(\"billede.jpg\", cv2.IMREAD_GRAYSCALE)\n",
    "\n",
    "# Givet fundet punkt (x, y)\n",
    "x_found, y_found = 100, 150  # Eksempelkoordinater\n",
    "\n",
    "# Find den lyseste pixel\n",
    "x_brightest, y_brightest = find_brightest_pixel(image, x_found, y_found)\n",
    "\n",
    "print(f\"Lyseste pixel fundet ved: ({x_brightest}, {y_brightest})\")\n"
   ]
  },
  {
   "cell_type": "markdown",
   "metadata": {},
   "source": []
  }
 ],
 "metadata": {
  "kernelspec": {
   "display_name": "Python_pakker",
   "language": "python",
   "name": "python3"
  },
  "language_info": {
   "codemirror_mode": {
    "name": "ipython",
    "version": 3
   },
   "file_extension": ".py",
   "mimetype": "text/x-python",
   "name": "python",
   "nbconvert_exporter": "python",
   "pygments_lexer": "ipython3",
   "version": "3.11.7"
  }
 },
 "nbformat": 4,
 "nbformat_minor": 2
}
