{
 "cells": [
  {
   "cell_type": "markdown",
   "metadata": {},
   "source": [
    "## This section is after a model has been trained and tested\n",
    "### After a model has been tested and given some outputs, we define a search grid where we will be looking for:\n",
    "##### * The highest pixel\n",
    "##### * That is not black\n",
    "##### * And that is brightest (when multiple pixels have the same height)"
   ]
  }
 ],
 "metadata": {
  "language_info": {
   "name": "python"
  }
 },
 "nbformat": 4,
 "nbformat_minor": 2
}
