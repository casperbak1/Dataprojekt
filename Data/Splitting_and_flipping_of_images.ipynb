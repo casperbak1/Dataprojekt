{
 "cells": [
  {
   "cell_type": "markdown",
   "metadata": {},
   "source": [
    "# Load packages"
   ]
  },
  {
   "cell_type": "code",
   "execution_count": 1,
   "metadata": {},
   "outputs": [],
   "source": [
    "import os\n",
    "import glob\n",
    "from PIL import Image\n",
    "import matplotlib.pyplot as plt\n",
    "import pandas as pd\n",
    "import imageio\n",
    "import numpy as np\n",
    "import random\n",
    "import shutil\n"
   ]
  },
  {
   "cell_type": "markdown",
   "metadata": {},
   "source": [
    "# Load the raw data"
   ]
  },
  {
   "cell_type": "code",
   "execution_count": 2,
   "metadata": {},
   "outputs": [
    {
     "name": "stdout",
     "output_type": "stream",
     "text": [
      "Loaded 1351 images from ..\\Data\\Raw Data\\Sample images: ['00OMSZGW_lower_combined.png', '00OMSZGW_upper_combined.png', '01328DDN_lower_combined.png', '01328DDN_upper_combined.png', '0132CR0A_lower_combined.png', '0132CR0A_upper_combined.png', '01343APK_lower_combined.png', '01343APK_upper_combined.png', '01346914_lower_combined.png', '01346914_upper_combined.png', '013475VT_lower_combined.png', '013475VT_upper_combined.png', '013FHA7K_lower_combined.png', '013FHA7K_upper_combined.png', '013FWKMZ_lower_combined.png', '013FWKMZ_upper_combined.png', '013H18FF_lower_combined.png', '013H18FF_upper_combined.png', '013H3Y8H_lower_combined.png', '013H3Y8H_upper_combined.png', '013JX8W4_lower_combined.png', '013JX8W4_upper_combined.png', '013NUWYR_lower_combined.png', '013NUWYR_upper_combined.png', '013NXHPV_lower_combined.png', '013NXHPV_upper_combined.png', '013NXP1H_lower_combined.png', '013NXP1H_upper_combined.png', '013TGCFK_lower_combined.png', '013TGCFK_upper_combined.png', '013TXGFK_lower_combined.png', '013TXGFK_upper_combined.png', '013V9CKV_lower_combined.png', '013V9CKV_upper_combined.png', '013VGW18_lower_combined.png', '013VGW18_upper_combined.png', '013Z78FX_lower_combined.png', '013Z78FX_upper_combined.png', '013Z8U5Z_lower_combined.png', '013Z8U5Z_upper_combined.png', '013Z9SM2_lower_combined.png', '013Z9SM2_upper_combined.png', '013ZD6EX_lower_combined.png', '013ZD6EX_upper_combined.png', '0140E7V2_lower_combined.png', '0140E7V2_upper_combined.png', '0140U5D6_lower_combined.png', '0140U5D6_upper_combined.png', '0140VD2R_lower_combined.png', '0140VD2R_upper_combined.png', '0140W3ND_lower_combined.png', '0140W3ND_upper_combined.png', '0140XF2Z_lower_combined.png', '0140XF2Z_upper_combined.png', '0140YFGV_lower_combined.png', '0140YFGV_upper_combined.png', '01422MSK_lower_combined.png', '01422MSK_upper_combined.png', '0142CYK4_lower_combined.png', '0142CYK4_upper_combined.png', '0145FC8N_lower_combined.png', '0145FC8N_upper_combined.png', '0145NKWZ_lower_combined.png', '0145NKWZ_upper_combined.png', '0148UTKX_lower_combined.png', '0148UTKX_upper_combined.png', '0148VUFR_lower_combined.png', '0148VUFR_upper_combined.png', '014996KX_lower_combined.png', '014996KX_upper_combined.png', '014ADZ2K_lower_combined.png', '014ADZ2K_upper_combined.png', '014EZU5V_lower_combined.png', '014EZU5V_upper_combined.png', '014F2T8F_lower_combined.png', '014F2T8F_upper_combined.png', '014F9HTN_lower_combined.png', '014F9HTN_upper_combined.png', '014JJ942_lower_combined.png', '014JJ942_upper_combined.png', '014JUMCF_lower_combined.png', '014JUMCF_upper_combined.png', '014JV25R_lower_combined.png', '014JV25R_upper_combined.png', '014M2HZD_lower_combined.png', '014M2HZD_upper_combined.png', '014RZJT4_lower_combined.png', '014RZJT4_upper_combined.png', '014RZUKF_lower_combined.png', '014RZUKF_upper_combined.png', '014S002X_lower_combined.png', '014S002X_upper_combined.png', '014WKP6A_lower_combined.png', '014WKP6A_upper_combined.png', '014X0F4K_lower_combined.png', '014X0F4K_upper_combined.png', '014Z13Z2_lower_combined.png', '014Z13Z2_upper_combined.png', '014Z1E5D_lower_combined.png', '014Z1E5D_upper_combined.png', '014ZTSJ8_lower_combined.png', '014ZTSJ8_upper_combined.png', '014ZTUSK_lower_combined.png', '014ZTUSK_upper_combined.png', '014ZWMZ8_lower_combined.png', '014ZWMZ8_upper_combined.png', '01502VH6_lower_combined.png', '01502VH6_upper_combined.png', '0151RHMK_lower_combined.png', '0151RHMK_upper_combined.png', '01533UH2_lower_combined.png', '01533UH2_upper_combined.png', '01533W1T_lower_combined.png', '01533W1T_upper_combined.png', '0154PPVX_lower_combined.png', '0154PPVX_upper_combined.png', '0154T9CN_lower_combined.png', '0154T9CN_upper_combined.png', '01558X1D_lower_combined.png', '01558X1D_upper_combined.png', '0155EZ2V_lower_combined.png', '0155EZ2V_upper_combined.png', '0158JZXN_lower_combined.png', '0158JZXN_upper_combined.png', '0158T9ED_lower_combined.png', '0158T9ED_upper_combined.png', '0158XRYK_lower_combined.png', '0158XRYK_upper_combined.png', '0159CS26_lower_combined.png', '0159CS26_upper_combined.png', '015DK78F_lower_combined.png', '015DK78F_upper_combined.png', '015DTXR8_lower_combined.png', '015DTXR8_upper_combined.png', '015DUP26_lower_combined.png', '015DUP26_upper_combined.png', '015DXGZH_lower_combined.png', '015DXGZH_upper_combined.png', '015KFJV6_lower_combined.png', '015KFJV6_upper_combined.png', '015KRWDT_lower_combined.png', '015KRWDT_upper_combined.png', '015RHV4X_lower_combined.png', '015RHV4X_upper_combined.png', '015RM178_lower_combined.png', '015RM178_upper_combined.png', '015SUFFX_lower_combined.png', '015SUFFX_upper_combined.png', '015SW0RN_lower_combined.png', '015SW0RN_upper_combined.png', '015WW8D6_lower_combined.png', '015WW8D6_upper_combined.png', '015WXFRN_lower_combined.png', '015WXFRN_upper_combined.png', '015WYXSK_lower_combined.png', '015WYXSK_upper_combined.png', '015XE9MT_lower_combined.png', '015XE9MT_upper_combined.png', '0160NTKK_lower_combined.png', '0160NTKK_upper_combined.png', '0165W7J4_lower_combined.png', '0165W7J4_upper_combined.png', '01661EUZ_lower_combined.png', '01661EUZ_upper_combined.png', '0166M778_lower_combined.png', '0166M778_upper_combined.png', '0169NHT6_lower_combined.png', '0169NHT6_upper_combined.png', '016A053T_lower_combined.png', '016A053T_upper_combined.png', '016FSM14_lower_combined.png', '016FSM14_upper_combined.png', '016FT33T_lower_combined.png', '016FT33T_upper_combined.png', '016G9TFH_lower_combined.png', '016G9TFH_upper_combined.png', '016KWDMV_lower_combined.png', '016KWDMV_upper_combined.png', '016N696F_lower_combined.png', '016N696F_upper_combined.png', '016NA0VD_lower_combined.png', '016NA0VD_upper_combined.png', '016PTY8K_lower_combined.png', '016PTY8K_upper_combined.png', '016SVMHT_lower_combined.png', '016SVMHT_upper_combined.png', '016T6810_lower_combined.png', '016T6810_upper_combined.png', '016T80GN_lower_combined.png', '016T80GN_upper_combined.png', '016THRCV_lower_combined.png', '016THRCV_upper_combined.png', '016X1CJT_lower_combined.png', '016X1CJT_upper_combined.png', '016XWJ8X_lower_combined.png', '016XWJ8X_upper_combined.png', '016Y55Z0_lower_combined.png', '016Y55Z0_upper_combined.png', '0171X5EV_lower_combined.png', '0171X5EV_upper_combined.png', '0175DC9K_lower_combined.png', '0175DC9K_upper_combined.png', '0175MHGN_lower_combined.png', '0175MHGN_upper_combined.png', '0177JSNX_lower_combined.png', '0177JSNX_upper_combined.png', '0178P1CT_lower_combined.png', '0178P1CT_upper_combined.png', '0178PAPZ_lower_combined.png', '0178PAPZ_upper_combined.png', '017APYC4_lower_combined.png', '017APYC4_upper_combined.png', '017FADFV_lower_combined.png', '017FADFV_upper_combined.png', '017FHD6X_lower_combined.png', '017FHD6X_upper_combined.png', '017U0890_lower_combined.png', '017U0890_upper_combined.png', '017U1TED_lower_combined.png', '017U1TED_upper_combined.png', '017U3R3T_lower_combined.png', '017U3R3T_upper_combined.png', '017UWE8F_lower_combined.png', '017UWE8F_upper_combined.png', '017UXKRN_lower_combined.png', '017UXKRN_upper_combined.png', '017UYAW4_lower_combined.png', '017UYAW4_upper_combined.png', '017YFPPR_lower_combined.png', '017YFPPR_upper_combined.png', '018RHCTX_lower_combined.png', '018RHCTX_upper_combined.png', '018RSPYF_lower_combined.png', '018RSPYF_upper_combined.png', '018UV7KV_lower_combined.png', '018UV7KV_upper_combined.png', '018VF1PV_lower_combined.png', '018VF1PV_upper_combined.png', '018W5JTD_lower_combined.png', '018W5JTD_upper_combined.png', '018XZVD6_lower_combined.png', '018XZVD6_upper_combined.png', '01909P9K_lower_combined.png', '01909P9K_upper_combined.png', '0191WKPV_lower_combined.png', '0191WKPV_upper_combined.png', '0199XT22_lower_combined.png', '0199XT22_upper_combined.png', '019CNYA6_lower_combined.png', '019CNYA6_upper_combined.png', '019CP4YZ_lower_combined.png', '019CP4YZ_upper_combined.png', '019EJZFH_lower_combined.png', '019EJZFH_upper_combined.png', '019EK6N2_lower_combined.png', '019EK6N2_upper_combined.png', '019EMA3D_lower_combined.png', '019EMA3D_upper_combined.png', '019GEJTN_lower_combined.png', '019GEJTN_upper_combined.png', '019GGYZ4_lower_combined.png', '019GGYZ4_upper_combined.png', '019M7KEN_lower_combined.png', '019M7KEN_upper_combined.png', '019NJEW6_lower_combined.png', '019NJEW6_upper_combined.png', '019NTT78_lower_combined.png', '019NTT78_upper_combined.png', '019NUXJV_lower_combined.png', '019NUXJV_upper_combined.png', '019P6PZD_lower_combined.png', '019P6PZD_upper_combined.png', '019PEUMN_lower_combined.png', '019PEUMN_upper_combined.png', '019T94KX_lower_combined.png', '019T94KX_upper_combined.png', '019TTV1D_lower_combined.png', '019TTV1D_upper_combined.png', '019TUUZD_lower_combined.png', '019TUUZD_upper_combined.png', '019Z31A2_lower_combined.png', '019Z31A2_upper_combined.png', '019Z57FF_lower_combined.png', '019Z57FF_upper_combined.png', '019ZGSJR_lower_combined.png', '019ZGSJR_upper_combined.png', '019ZHT7Z_lower_combined.png', '019ZHT7Z_upper_combined.png', '019ZJY1H_lower_combined.png', '019ZJY1H_upper_combined.png', '019ZKUHV_lower_combined.png', '019ZKUHV_upper_combined.png', '019ZMN7R_lower_combined.png', '019ZMN7R_upper_combined.png', '01A6GW4A_lower_combined.png', '01A6GW4A_upper_combined.png', '01A6H4PZ_lower_combined.png', '01A6H4PZ_upper_combined.png', '01A6HAN6_lower_combined.png', '01A6HAN6_upper_combined.png', '01A6HE9H_lower_combined.png', '01A6HE9H_upper_combined.png', '01A6HG3N_lower_combined.png', '01A6HG3N_upper_combined.png', '01A91JH6_lower_combined.png', '01A91JH6_upper_combined.png', '01A9282X_lower_combined.png', '01A9282X_upper_combined.png', '01ADUNMV_lower_combined.png', '01ADUNMV_upper_combined.png', '01ADYT70_lower_combined.png', '01ADYT70_upper_combined.png', '01AFES4K_lower_combined.png', '01AFES4K_upper_combined.png', '01AKES86_lower_combined.png', '01AKES86_upper_combined.png', '01AS003D_lower_combined.png', '01AS003D_upper_combined.png', '01AS72AN_lower_combined.png', '01AS72AN_upper_combined.png', '01AS9ER0_lower_combined.png', '01AS9ER0_upper_combined.png', '01AVY0SK_lower_combined.png', '01AVY0SK_upper_combined.png', '01CCTTK4_lower_combined.png', '01CCTTK4_upper_combined.png', '01CCUKV4_lower_combined.png', '01CCUKV4_upper_combined.png', '01CDZ2WA_lower_combined.png', '01CDZ2WA_upper_combined.png', '01CJ68G2_lower_combined.png', '01CJ68G2_upper_combined.png', '01DXDP2R_lower_combined.png', '01DXDP2R_upper_combined.png', '01E1XHG8_lower_combined.png', '01E1XHG8_upper_combined.png', '01E5PXS8_lower_combined.png', '01E5PXS8_upper_combined.png', '01E5T402_lower_combined.png', '01E5T402_upper_combined.png', '01E5XG8Z_lower_combined.png', '01E5XG8Z_upper_combined.png', '01E66M2X_lower_combined.png', '01E66M2X_upper_combined.png', '01E7MMEF_lower_combined.png', '01E7MMEF_upper_combined.png', '01E84NTX_lower_combined.png', '01E84NTX_upper_combined.png', '01E9V1EX_lower_combined.png', '01E9V1EX_upper_combined.png', '01ECNYXT_lower_combined.png', '01ECNYXT_upper_combined.png', '01ECZRY6_lower_combined.png', '01ECZRY6_upper_combined.png', '01EDMPPZ_lower_combined.png', '01EDMPPZ_upper_combined.png', '01EGTCG0_lower_combined.png', '01EGTCG0_upper_combined.png', '01EH2EGV_lower_combined.png', '01EH2EGV_upper_combined.png', '01ENJ8TT_lower_combined.png', '01ENJ8TT_upper_combined.png', '01ENPFHF_lower_combined.png', '01ENPFHF_upper_combined.png', '01ETW4JZ_lower_combined.png', '01ETW4JZ_upper_combined.png', '01EU1338_lower_combined.png', '01EU1338_upper_combined.png', '01F4JV8X_lower_combined.png', '01F4JV8X_upper_combined.png', '01F4RGN8_lower_combined.png', '01F4RGN8_upper_combined.png', '01F4SYN8_lower_combined.png', '01F4SYN8_upper_combined.png', '01F6WV5D_lower_combined.png', '01F6WV5D_upper_combined.png', '01F737KT_lower_combined.png', '01F737KT_upper_combined.png', '01FAXM1D_lower_combined.png', '01FAXM1D_upper_combined.png', '01FAYE3T_lower_combined.png', '01FAYE3T_upper_combined.png', '01FC0082_lower_combined.png', '01FC0082_upper_combined.png', '01FC2D4A_lower_combined.png', '01FC2D4A_upper_combined.png', '01FG729R_lower_combined.png', '01FG729R_upper_combined.png', '01FGGPZX_lower_combined.png', '01FGGPZX_upper_combined.png', '01FGPDFR_lower_combined.png', '01FGPDFR_upper_combined.png', '01FJT0PR_lower_combined.png', '01FJT0PR_upper_combined.png', '01FJTJU6_lower_combined.png', '01FJTJU6_upper_combined.png', '01FPR7JA_lower_combined.png', '01FPR7JA_upper_combined.png', '01FPTYH2_lower_combined.png', '01FPTYH2_upper_combined.png', '01FPY2PZ_lower_combined.png', '01FPY2PZ_upper_combined.png', '01FR2S9H_lower_combined.png', '01FR2S9H_upper_combined.png', '01FR9KKX_lower_combined.png', '01FR9KKX_upper_combined.png', '01FURZ62_lower_combined.png', '01FURZ62_upper_combined.png', '01FUXUMF_lower_combined.png', '01FUXUMF_upper_combined.png', '01FUZ18R_lower_combined.png', '01FUZ18R_upper_combined.png', '01FV7258_lower_combined.png', '01FV7258_upper_combined.png', '01FVAE34_lower_combined.png', '01FVAE34_upper_combined.png', '01FX4X4R_lower_combined.png', '01FX4X4R_upper_combined.png', '01FX95TX_lower_combined.png', '01FX95TX_upper_combined.png', '01FYW6K6_lower_combined.png', '01FYW6K6_upper_combined.png', '01G1AKV2_lower_combined.png', '01G1AKV2_upper_combined.png', '01G1GYUF_lower_combined.png', '01G1GYUF_upper_combined.png', '01G1KN8Z_lower_combined.png', '01G1KN8Z_upper_combined.png', '01HJHZ5X_lower_combined.png', '01HJHZ5X_upper_combined.png', '01HJK61N_lower_combined.png', '01HJK61N_upper_combined.png', '01HJKFR8_lower_combined.png', '01HJKFR8_upper_combined.png', '01HMF5HV_lower_combined.png', '01HMF5HV_upper_combined.png', '01HMZ9RN_lower_combined.png', '01HMZ9RN_upper_combined.png', '01HXMTNF_lower_combined.png', '01HXMTNF_upper_combined.png', '01HXX9J8_lower_combined.png', '01HXX9J8_upper_combined.png', '01HY2W2Z_lower_combined.png', '01HY2W2Z_upper_combined.png', '01J07922_lower_combined.png', '01J07922_upper_combined.png', '01J1XXHR_lower_combined.png', '01J1XXHR_upper_combined.png', '01J24RCK_lower_combined.png', '01J24RCK_upper_combined.png', '01J4R99K_lower_combined.png', '01J4R99K_upper_combined.png', '01J4YSDX_lower_combined.png', '01J4YSDX_upper_combined.png', '01J54NZ0_lower_combined.png', '01J54NZ0_upper_combined.png', '01J9AXDD_lower_combined.png', '01J9AXDD_upper_combined.png', '01J9K9S6_lower_combined.png', '01J9K9S6_upper_combined.png', '01J9RWK6_lower_combined.png', '01J9RWK6_upper_combined.png', '01JH0154_lower_combined.png', '01JH0154_upper_combined.png', '01JHAGK0_lower_combined.png', '01JHAGK0_upper_combined.png', '01JHDRT4_lower_combined.png', '01JHDRT4_upper_combined.png', '01JM5T86_lower_combined.png', '01JM5T86_upper_combined.png', '01JNZKAX_lower_combined.png', '01JNZKAX_upper_combined.png', '01JZ8C06_lower_combined.png', '01JZ8C06_upper_combined.png', '01JZDW8K_lower_combined.png', '01JZDW8K_upper_combined.png', '01JZF0KX_lower_combined.png', '01JZF0KX_upper_combined.png', '01K17AN8_lower_combined.png', '01K17AN8_upper_combined.png', '01K3G866_lower_combined.png', '01K3G866_upper_combined.png', '01K5X8CN_lower_combined.png', '01K5X8CN_upper_combined.png', '01K6HYF6_lower_combined.png', '01K6HYF6_upper_combined.png', '01KAS2KD_lower_combined.png', '01KAS2KD_upper_combined.png', '01KC08MV_lower_combined.png', '01KC08MV_upper_combined.png', '01KCA1CT_lower_combined.png', '01KCA1CT_upper_combined.png', '01KEK90A_lower_combined.png', '01KEK90A_upper_combined.png', '01KEV6ET_lower_combined.png', '01KEV6ET_upper_combined.png', '01KJXCTX_lower_combined.png', '01KJXCTX_upper_combined.png', '01KK2DER_lower_combined.png', '01KK2DER_upper_combined.png', '01KK775H_lower_combined.png', '01KK775H_upper_combined.png', '01KKD7YK_lower_combined.png', '01KKD7YK_upper_combined.png', '01KRCSKD_lower_combined.png', '01KRCSKD_upper_combined.png', '01KRDUKX_lower_combined.png', '01KRDUKX_upper_combined.png', '01KRESY6_lower_combined.png', '01KRESY6_upper_combined.png', '01KTRG9K_lower_combined.png', '01KTRG9K_upper_combined.png', '01KTSH6A_lower_combined.png', '01KTSH6A_upper_combined.png', '01KXSC9K_lower_combined.png', '01KXSC9K_upper_combined.png', '01KXSPAA_lower_combined.png', '01KXSPAA_upper_combined.png', '01KY7E6A_lower_combined.png', '01KY7E6A_upper_combined.png', '01M0RWA6_lower_combined.png', '01M0RWA6_upper_combined.png', '01M10NMV_lower_combined.png', '01M10NMV_upper_combined.png', '01M24NSZ_lower_combined.png', '01M24NSZ_upper_combined.png', '01M3N1UK_lower_combined.png', '01M3N1UK_upper_combined.png', '01M6A1CH_lower_combined.png', '01M6A1CH_upper_combined.png', '01M6GFPV_lower_combined.png', '01M6GFPV_upper_combined.png', '01M6JVVN_lower_combined.png', '01M6JVVN_upper_combined.png', '01M6SK94_lower_combined.png', '01M6SK94_upper_combined.png', '01MAU84T_lower_combined.png', '01MAU84T_upper_combined.png', '01MAVHYZ_lower_combined.png', '01MAVHYZ_upper_combined.png', '01MAVT6A_lower_combined.png', '01MAVT6A_upper_combined.png', '01MCCA3X_lower_combined.png', '01MCCA3X_upper_combined.png', '01MCM1UK_lower_combined.png', '01MCM1UK_upper_combined.png', '01MCNDR0_lower_combined.png', '01MCNDR0_upper_combined.png', '01MGY4X8_lower_combined.png', '01MGY4X8_upper_combined.png', '07ZWIO50_lower_combined.png', '07ZWIO50_upper_combined.png', '08VJ02L0_lower_combined.png', '08VJ02L0_upper_combined.png', '09BMUY86_lower_combined.png', '09BMUY86_upper_combined.png', '09H2L7DM_lower_combined.png', '09H2L7DM_upper_combined.png', '09HRNJZ8_lower_combined.png', '09HRNJZ8_upper_combined.png', '0AAQ6BO3_lower_combined.png', '0AAQ6BO3_upper_combined.png', '0DNK2I7H_lower_combined.png', '0DNK2I7H_upper_combined.png', '0EAKT1CU_lower_combined.png', '0EAKT1CU_upper_combined.png', '0EJBIPTC_lower_combined.png', '0EJBIPTC_upper_combined.png', '0IU0UV8E_upper_combined.png', '0JN50XQR_lower_combined.png', '0JN50XQR_upper_combined.png', '0KIUZ4G5_lower_combined.png', '0KIUZ4G5_upper_combined.png', '0KPHM46Q_lower_combined.png', '0KPHM46Q_upper_combined.png', '0LF355FQ_lower_combined.png', '0LF355FQ_upper_combined.png', '0NH6X4SS_lower_combined.png', '0NH6X4SS_upper_combined.png', '0O4502M7_lower_combined.png', '0O4502M7_upper_combined.png', '0OF8OOCX_lower_combined.png', '0OF8OOCX_upper_combined.png', '0OTKQ5J9_lower_combined.png', '0OTKQ5J9_upper_combined.png', '0TMOBYXS_lower_combined.png', '0TMOBYXS_upper_combined.png', '0U1LI1CB_lower_combined.png', '0U1LI1CB_upper_combined.png', '0VFZZY32_lower_combined.png', '0VFZZY32_upper_combined.png', '0VYQUKGQ_lower_combined.png', '0VYQUKGQ_upper_combined.png', '0Y047OQK_lower_combined.png', '0Y047OQK_upper_combined.png', '12MM6PD7_lower_combined.png', '12MM6PD7_upper_combined.png', '13AFGBBC_lower_combined.png', '13AFGBBC_upper_combined.png', '1419YTY4_lower_combined.png', '1419YTY4_upper_combined.png', '14M656LK_lower_combined.png', '14M656LK_upper_combined.png', '15AIQVK8_lower_combined.png', '15AIQVK8_upper_combined.png', '1AX7AB2P_lower_combined.png', '1AX7AB2P_upper_combined.png', '1EC2MSZR_lower_combined.png', '1EC2MSZR_upper_combined.png', '1FJ3MLSY_lower_combined.png', '1FJ3MLSY_upper_combined.png', '1FKZ98MK_lower_combined.png', '1FKZ98MK_upper_combined.png', '1LYSVDBP_lower_combined.png', '1LYSVDBP_upper_combined.png', '1MWJLE4X_lower_combined.png', '1MWJLE4X_upper_combined.png', '1QHIL7V2_lower_combined.png', '1QHIL7V2_upper_combined.png', '1QI2XWMD_lower_combined.png', '1QI2XWMD_upper_combined.png', '1RT7WBH4_lower_combined.png', '1RT7WBH4_upper_combined.png', '202Z1L1N_lower_combined.png', '202Z1L1N_upper_combined.png', '20AHRBL3_lower_combined.png', '20AHRBL3_upper_combined.png', '211UTGV1_lower_combined.png', '211UTGV1_upper_combined.png', '22AEG48N_lower_combined.png', '22AEG48N_upper_combined.png', '230CAJXL_lower_combined.png', '230CAJXL_upper_combined.png', '26CY2H2Q_lower_combined.png', '26CY2H2Q_upper_combined.png', '270KABNB_lower_combined.png', '270KABNB_upper_combined.png', '276N3YRC_lower_combined.png', '276N3YRC_upper_combined.png', '28Q7CM3T_lower_combined.png', '28Q7CM3T_upper_combined.png', '2AK5QKZ7_lower_combined.png', '2AK5QKZ7_upper_combined.png', '2C4FVXU0_lower_combined.png', '2C4FVXU0_upper_combined.png', '2CE5VDAE_lower_combined.png', '2CE5VDAE_upper_combined.png', '2DZ821ZJ_lower_combined.png', '2DZ821ZJ_upper_combined.png', '2GB3W1J0_lower_combined.png', '2GB3W1J0_upper_combined.png', '2HTC4QTP_lower_combined.png', '2HTC4QTP_upper_combined.png', '2HVVCR7B_lower_combined.png', '2HVVCR7B_upper_combined.png', '2PNHPSAX_lower_combined.png', '2PNHPSAX_upper_combined.png', '2Q8KKZ6V_lower_combined.png', '2Q8KKZ6V_upper_combined.png', '2TPJ3FG9_lower_combined.png', '2TPJ3FG9_upper_combined.png', '2U54CEI3_lower_combined.png', '2U54CEI3_upper_combined.png', '2XV86U1F_lower_combined.png', '2XV86U1F_upper_combined.png', '2Z5OXS0K_lower_combined.png', '2Z5OXS0K_upper_combined.png', '35XFO1ZF_lower_combined.png', '35XFO1ZF_upper_combined.png', '38JDN4ZV_lower_combined.png', '38JDN4ZV_upper_combined.png', '3ARXXI22_lower_combined.png', '3ARXXI22_upper_combined.png', '3DDGECCR_lower_combined.png', '3DDGECCR_upper_combined.png', '3EIXXI7Z_lower_combined.png', '3EIXXI7Z_upper_combined.png', '3EU06ZN9_lower_combined.png', '3EU06ZN9_upper_combined.png', '3HRLKQ4M_lower_combined.png', '3HRLKQ4M_upper_combined.png', '3JCUF41E_lower_combined.png', '3JCUF41E_upper_combined.png', '3JVRS0V2_lower_combined.png', '3JVRS0V2_upper_combined.png', '3OHU0Q5V_lower_combined.png', '3OHU0Q5V_upper_combined.png', '3PLVMF2P_lower_combined.png', '3PLVMF2P_upper_combined.png', '3PSS0ONL_lower_combined.png', '3PSS0ONL_upper_combined.png', '3RHL4BKW_lower_combined.png', '3RHL4BKW_upper_combined.png', '3SVY023X_lower_combined.png', '3SVY023X_upper_combined.png', '3XIVSP8G_lower_combined.png', '3XIVSP8G_upper_combined.png', '3XXKPMWE_lower_combined.png', '3XXKPMWE_upper_combined.png', '3Y8A14TI_lower_combined.png', '3Y8A14TI_upper_combined.png', '45UD35GC_lower_combined.png', '45UD35GC_upper_combined.png', '460C7711_lower_combined.png', '460C7711_upper_combined.png', '4A02S6L3_lower_combined.png', '4A02S6L3_upper_combined.png', '4FEQPMVC_lower_combined.png', '4FEQPMVC_upper_combined.png', '4G9LHQ2X_lower_combined.png', '4G9LHQ2X_upper_combined.png', '4I10EMWA_lower_combined.png', '4I10EMWA_upper_combined.png', '4J24X0ES_lower_combined.png', '4J24X0ES_upper_combined.png', '4LQPEQN5_lower_combined.png', '4LQPEQN5_upper_combined.png', '4MC4KRQV_lower_combined.png', '4MC4KRQV_upper_combined.png', '4NEUQLYY_lower_combined.png', '4NEUQLYY_upper_combined.png', '4O6ZE6F3_lower_combined.png', '4O6ZE6F3_upper_combined.png', '4OPR2WF4_lower_combined.png', '4OPR2WF4_upper_combined.png', '4OTQF1P6_lower_combined.png', '4OTQF1P6_upper_combined.png', '4OWAG3SG_lower_combined.png', '4OWAG3SG_upper_combined.png', '4PW7S6FP_lower_combined.png', '4PW7S6FP_upper_combined.png', '4SA064Y7_lower_combined.png', '4SA064Y7_upper_combined.png', '4TXFGFJS_lower_combined.png', '4TXFGFJS_upper_combined.png', '4W9X0QQI_lower_combined.png', '4ZIK093I_lower_combined.png', '4ZIK093I_upper_combined.png', '50O9GUWT_lower_combined.png', '50O9GUWT_upper_combined.png', '51MXL2ZA_lower_combined.png', '51MXL2ZA_upper_combined.png', '54RS4WY0_lower_combined.png', '54RS4WY0_upper_combined.png', '552HVG7E_lower_combined.png', '552HVG7E_upper_combined.png', '55EXF0WK_lower_combined.png', '55EXF0WK_upper_combined.png', '56R9FBMK_lower_combined.png', '56R9FBMK_upper_combined.png', '58M9IXQ2_lower_combined.png', '58M9IXQ2_upper_combined.png', '5J9O0LG3_lower_combined.png', '5J9O0LG3_upper_combined.png', '5JOHQLJK_lower_combined.png', '5JOHQLJK_upper_combined.png', '5JRH5J6E_lower_combined.png', '5JRH5J6E_upper_combined.png', '5LP835GA_lower_combined.png', '5LP835GA_upper_combined.png', '5M23YGJN_lower_combined.png', '5M23YGJN_upper_combined.png', '5N1YM01F_lower_combined.png', '5N1YM01F_upper_combined.png', '5NMDP9FJ_lower_combined.png', '5NMDP9FJ_upper_combined.png', '5SD5BWLR_lower_combined.png', '5SD5BWLR_upper_combined.png', '5WCMFAT0_lower_combined.png', '5WCMFAT0_upper_combined.png', '653MMYW8_lower_combined.png', '653MMYW8_upper_combined.png', '67PV9M7X_lower_combined.png', '67PV9M7X_upper_combined.png', '6A019QAT_lower_combined.png', '6A019QAT_upper_combined.png', '6B5BDMQS_lower_combined.png', '6B5BDMQS_upper_combined.png', '6BWQC0CT_lower_combined.png', '6BWQC0CT_upper_combined.png', '6FUR0HKF_lower_combined.png', '6FUR0HKF_upper_combined.png', '6I8A5049_lower_combined.png', '6I8A5049_upper_combined.png', '6KPUNI4X_lower_combined.png', '6KPUNI4X_upper_combined.png', '6L4N5MA2_lower_combined.png', '6L4N5MA2_upper_combined.png', '6N26U3H8_lower_combined.png', '6N26U3H8_upper_combined.png', '6PNM29W7_lower_combined.png', '6PNM29W7_upper_combined.png', '6PTI2HX6_lower_combined.png', '6PTI2HX6_upper_combined.png', '6QJ5RART_lower_combined.png', '6QJ5RART_upper_combined.png', '6TVH3SNC_lower_combined.png', '6TVH3SNC_upper_combined.png', '6TZ254SP_lower_combined.png', '6TZ254SP_upper_combined.png', '6VX3OJFR_lower_combined.png', '6VX3OJFR_upper_combined.png', '6X24ILNE_lower_combined.png', '6X24ILNE_upper_combined.png', '6X2UD6H6_lower_combined.png', '6X2UD6H6_upper_combined.png', '6XSU5W4B_lower_combined.png', '6XSU5W4B_upper_combined.png', '725VOCK0_lower_combined.png', '725VOCK0_upper_combined.png', '78WMB1PB_lower_combined.png', '78WMB1PB_upper_combined.png', '79R5A68H_lower_combined.png', '79R5A68H_upper_combined.png', '7B46ZOVS_lower_combined.png', '7B46ZOVS_upper_combined.png', '7CPH3KRT_lower_combined.png', '7CPH3KRT_upper_combined.png', '7DRMXZ3A_lower_combined.png', '7DRMXZ3A_upper_combined.png', '7G52QKXB_lower_combined.png', '7G52QKXB_upper_combined.png', '7IGA0W6E_lower_combined.png', '7IGA0W6E_upper_combined.png', '7IKF2TIW_lower_combined.png', '7IKF2TIW_upper_combined.png', '7IYV2N3D_lower_combined.png', '7IYV2N3D_upper_combined.png', '7KRVT5N0_lower_combined.png', '7KRVT5N0_upper_combined.png', '7PQAZ8X1_lower_combined.png', '7PQAZ8X1_upper_combined.png', '7QW884Y4_lower_combined.png', '7QW884Y4_upper_combined.png', '80RPZWJT_lower_combined.png', '80RPZWJT_upper_combined.png', '82D9U6D6_lower_combined.png', '82D9U6D6_upper_combined.png', '82J9I2HU_lower_combined.png', '82J9I2HU_upper_combined.png', '85ARPPFY_lower_combined.png', '85ARPPFY_upper_combined.png', '87ILJ6BK_lower_combined.png', '87ILJ6BK_upper_combined.png', '87N5YSES_lower_combined.png', '87N5YSES_upper_combined.png', '8BA4388V_lower_combined.png', '8BA4388V_upper_combined.png', '8C8LPIIY_lower_combined.png', '8C8LPIIY_upper_combined.png', '8JYS0DD1_lower_combined.png', '8JYS0DD1_upper_combined.png', '8MTEIYKY_lower_combined.png', '8MTEIYKY_upper_combined.png', '8OHPQ7X8_lower_combined.png', '8OHPQ7X8_upper_combined.png', '8QFKXVYB_lower_combined.png', '8QFKXVYB_upper_combined.png', '8SLVB1AH_lower_combined.png', '8SLVB1AH_upper_combined.png', '8T3LV6TZ_lower_combined.png', '8T3LV6TZ_upper_combined.png', '8WZSZBYG_lower_combined.png', '8WZSZBYG_upper_combined.png', '8XVU7PN9_lower_combined.png', '8XVU7PN9_upper_combined.png', '918HS04U_lower_combined.png', '918HS04U_upper_combined.png', '92NOTURU_lower_combined.png', '92NOTURU_upper_combined.png', '949XHLS5_lower_combined.png', '949XHLS5_upper_combined.png', '9GSQBATD_lower_combined.png', '9GSQBATD_upper_combined.png', '9KDRM0A8_lower_combined.png', '9KDRM0A8_upper_combined.png', '9LWEGQLI_lower_combined.png', '9LWEGQLI_upper_combined.png', '9M60SBBP_lower_combined.png', '9M60SBBP_upper_combined.png', '9OOBRVB8_lower_combined.png', '9OOBRVB8_upper_combined.png', '9R5CDLK4_lower_combined.png', '9R5CDLK4_upper_combined.png', '9RXZC3H4_lower_combined.png', '9RXZC3H4_upper_combined.png', '9S7DPB1Q_lower_combined.png', '9S7DPB1Q_upper_combined.png', '9TLHF8TV_lower_combined.png', '9TLHF8TV_upper_combined.png', '9U19TREK_lower_combined.png', '9U19TREK_upper_combined.png', '9VI3MAFZ_lower_combined.png', '9VI3MAFZ_upper_combined.png', '9Y5UP7GB_lower_combined.png', '9Y5UP7GB_upper_combined.png', '9YQIGSGN_lower_combined.png', '9YQIGSGN_upper_combined.png', '9ZI8RSEP_lower_combined.png', '9ZI8RSEP_upper_combined.png', 'A9TECAGP_lower_combined.png', 'A9TECAGP_upper_combined.png', 'AD8EQEUR_lower_combined.png', 'AD8EQEUR_upper_combined.png', 'AEOQ4Q9Q_lower_combined.png', 'AEOQ4Q9Q_upper_combined.png', 'AJP25A9G_lower_combined.png', 'AJP25A9G_upper_combined.png', 'AKBDPB4C_lower_combined.png', 'AKBDPB4C_upper_combined.png', 'AKHIE0CJ_lower_combined.png', 'AKHIE0CJ_upper_combined.png', 'ameziani_lower_combined.png', 'ameziani_upper_combined.png', 'ANLLPLV7_lower_combined.png', 'ANLLPLV7_upper_combined.png', 'API3O9JV_lower_combined.png', 'API3O9JV_upper_combined.png', 'APLDXK7R_lower_combined.png', 'AQLXAN8L_lower_combined.png', 'AQLXAN8L_upper_combined.png', 'ASUXPX7O_lower_combined.png', 'ASUXPX7O_upper_combined.png', 'AV3JBM98_lower_combined.png', 'AV3JBM98_upper_combined.png', 'AVI68NCT_lower_combined.png', 'AVI68NCT_upper_combined.png', 'AY0DEPFN_lower_combined.png', 'AY0DEPFN_upper_combined.png', 'AYJQ5YMF_lower_combined.png', 'AYJQ5YMF_upper_combined.png', 'AYSCFCO8_lower_combined.png', 'AYSCFCO8_upper_combined.png', 'B5708797_lower_combined.png', 'B5708797_upper_combined.png', 'B5GFZIRW_lower_combined.png', 'B5GFZIRW_upper_combined.png', 'B7JSFJPG_lower_combined.png', 'B7JSFJPG_upper_combined.png', 'B7ZCYID1_lower_combined.png', 'B7ZCYID1_upper_combined.png', 'B9TZ4IAO_lower_combined.png', 'B9TZ4IAO_upper_combined.png', 'baliwish_lower_combined.png', 'baliwish_upper_combined.png', 'BBHLWUPK_lower_combined.png', 'BBHLWUPK_upper_combined.png', 'BC0OWLNW_lower_combined.png', 'BC0OWLNW_upper_combined.png', 'BEONHKS1_lower_combined.png', 'BEONHKS1_upper_combined.png', 'BIIEY91S_lower_combined.png', 'BIIEY91S_upper_combined.png', 'BMQDU97G_lower_combined.png', 'BMQDU97G_upper_combined.png', 'BNQ3Q4G3_lower_combined.png', 'BNQ3Q4G3_upper_combined.png', 'BT6UVVI2_lower_combined.png', 'BT6UVVI2_upper_combined.png', 'BTDMOORI_lower_combined.png', 'BTDMOORI_upper_combined.png', 'BUGB9DY1_lower_combined.png', 'BUGB9DY1_upper_combined.png', 'BWWLPBF7_lower_combined.png', 'BWWLPBF7_upper_combined.png', 'C2SF98X5_lower_combined.png', 'C2SF98X5_upper_combined.png', 'C3TQ47Z0_lower_combined.png', 'C3TQ47Z0_upper_combined.png', 'C4EMFL0D_lower_combined.png', 'C4EMFL0D_upper_combined.png', 'C4LOTSKE_lower_combined.png', 'C4LOTSKE_upper_combined.png', 'C6C00RHE_lower_combined.png', 'C6C00RHE_upper_combined.png', 'C928TR28_lower_combined.png', 'C928TR28_upper_combined.png', 'CBH07YND_lower_combined.png', 'CBH07YND_upper_combined.png', 'CBSF6Q84_lower_combined.png', 'CBSF6Q84_upper_combined.png', 'CD81F1F4_lower_combined.png', 'CD81F1F4_upper_combined.png', 'CIGUMDD0_lower_combined.png', 'CIGUMDD0_upper_combined.png', 'CK45DVLG_lower_combined.png', 'CK45DVLG_upper_combined.png', 'CLNVA9MZ_lower_combined.png', 'CLNVA9MZ_upper_combined.png', 'CNUR69O9_lower_combined.png', 'CNUR69O9_upper_combined.png', 'CQZX40I5_lower_combined.png', 'CQZX40I5_upper_combined.png', 'CR6E6PTV_lower_combined.png', 'CR6E6PTV_upper_combined.png', 'CUOT8S6L_lower_combined.png', 'CUOT8S6L_upper_combined.png', 'CVTHSBS5_lower_combined.png', 'CVTHSBS5_upper_combined.png', 'CVXIS1C2_lower_combined.png', 'CVXIS1C2_upper_combined.png', 'CX7JD1LO_lower_combined.png', 'CX7JD1LO_upper_combined.png', 'CXAJM3O9_lower_combined.png', 'CXAJM3O9_upper_combined.png', 'CYU4HS3D_lower_combined.png', 'CYU4HS3D_upper_combined.png', 'CZ0XDR02_lower_combined.png', 'CZ0XDR02_upper_combined.png', 'D0NMVCKH_lower_combined.png', 'D0NMVCKH_upper_combined.png', 'D8FLAW28_lower_combined.png', 'D8FLAW28_upper_combined.png', 'DA6ONC9Z_lower_combined.png', 'DA6ONC9Z_upper_combined.png', 'DBNTTNY9_lower_combined.png', 'DBNTTNY9_upper_combined.png', 'DC8VMT30_lower_combined.png', 'DC8VMT30_upper_combined.png', 'DEBDX44O_lower_combined.png', 'DEBDX44O_upper_combined.png', 'DG27PDD4_lower_combined.png', 'DG27PDD4_upper_combined.png', 'DGUTSTAN_lower_combined.png', 'DGUTSTAN_upper_combined.png', 'DHS59TDF_lower_combined.png', 'DHS59TDF_upper_combined.png', 'DKDRMRFK_lower_combined.png', 'DKDRMRFK_upper_combined.png', 'DKZWON8N_lower_combined.png', 'DKZWON8N_upper_combined.png', 'DLVODLKR_lower_combined.png', 'DLVODLKR_upper_combined.png', 'DNDYES9U_lower_combined.png', 'DNDYES9U_upper_combined.png', 'DNSRP767_lower_combined.png', 'DNSRP767_upper_combined.png', 'DOMAN83I_lower_combined.png', 'DOMAN83I_upper_combined.png', 'DVVHA02D_lower_combined.png', 'DVVHA02D_upper_combined.png', 'DWXU0WC3_lower_combined.png', 'DWXU0WC3_upper_combined.png', 'DXNHHADD_lower_combined.png', 'DXNHHADD_upper_combined.png', 'E0CUCLHY_lower_combined.png', 'E0CUCLHY_upper_combined.png', 'E11NEPB6_lower_combined.png', 'E11NEPB6_upper_combined.png', 'E1OLNXQ5_lower_combined.png', 'E1OLNXQ5_upper_combined.png', 'E23G704K_lower_combined.png', 'E23G704K_upper_combined.png', 'E4GH1D3S_lower_combined.png', 'E4GH1D3S_upper_combined.png', 'E552BK9X_lower_combined.png', 'E552BK9X_upper_combined.png', 'EA8SBGX4_lower_combined.png', 'EA8SBGX4_upper_combined.png', 'EB6DQGAR_lower_combined.png', 'EB6DQGAR_upper_combined.png', 'EBSXE6SY_lower_combined.png', 'EBSXE6SY_upper_combined.png', 'EI585456_lower_combined.png', 'EI585456_upper_combined.png', 'EJWZZZRF_lower_combined.png', 'EJWZZZRF_upper_combined.png', 'EK26QFUW_lower_combined.png', 'EK26QFUW_upper_combined.png', 'EKITH3BB_lower_combined.png', 'EKITH3BB_upper_combined.png', 'ENQ0R553_lower_combined.png', 'ENQ0R553_upper_combined.png', 'ERCT8ZLW_lower_combined.png', 'ERCT8ZLW_upper_combined.png', 'EUCFQ9KW_lower_combined.png', 'EUCFQ9KW_upper_combined.png', 'EVWJL2PL_lower_combined.png', 'EVWJL2PL_upper_combined.png', 'F5NBC5X3_lower_combined.png', 'F5NBC5X3_upper_combined.png', 'F892DPWZ_lower_combined.png', 'F892DPWZ_upper_combined.png', 'F92OKIOI_lower_combined.png', 'F92OKIOI_upper_combined.png', 'FA7LBP95_lower_combined.png', 'FA7LBP95_upper_combined.png', 'FBZLIQ1L_lower_combined.png', 'FBZLIQ1L_upper_combined.png', 'FGXB4D4K_lower_combined.png', 'FGXB4D4K_upper_combined.png', 'FHA6N618_lower_combined.png', 'FHA6N618_upper_combined.png', 'FJPU30RL_lower_combined.png', 'FJPU30RL_upper_combined.png', 'FJS5HCDU_lower_combined.png', 'FJS5HCDU_upper_combined.png', 'FKSYZ9LA_lower_combined.png', 'FKSYZ9LA_upper_combined.png', 'FUYJPUPX_lower_combined.png', 'FUYJPUPX_upper_combined.png', 'FWTHWWD3_lower_combined.png', 'FWTHWWD3_upper_combined.png', 'FXMJG80Y_lower_combined.png', 'FXMJG80Y_upper_combined.png', 'G29MBJ1O_lower_combined.png', 'G29MBJ1O_upper_combined.png', 'G3IG4NVH_lower_combined.png', 'G3IG4NVH_upper_combined.png', 'G73V8OVW_lower_combined.png', 'G73V8OVW_upper_combined.png', 'GANLQSL1_lower_combined.png', 'GANLQSL1_upper_combined.png', 'GB5JUSDJ_lower_combined.png', 'GB5JUSDJ_upper_combined.png', 'GBRCT97W_lower_combined.png', 'GBRCT97W_upper_combined.png', 'GE7LXGDG_lower_combined.png', 'GE7LXGDG_upper_combined.png', 'GG5ARUVQ_lower_combined.png', 'GG5ARUVQ_upper_combined.png', 'GK7OJEPT_lower_combined.png', 'GK7OJEPT_upper_combined.png', 'GNR6QR3P_lower_combined.png', 'GNR6QR3P_upper_combined.png', 'GPADPK3N_lower_combined.png', 'GPADPK3N_upper_combined.png', 'GRG0112S_lower_combined.png', 'GRG0112S_upper_combined.png', 'GSHA8E4C_lower_combined.png', 'GSHA8E4C_upper_combined.png', 'GSICB2I6_lower_combined.png', 'GSICB2I6_upper_combined.png', 'GW8YVYNF_lower_combined.png', 'GW8YVYNF_upper_combined.png', 'H1HUQBYJ_lower_combined.png', 'H1HUQBYJ_upper_combined.png', 'H205AOTN_lower_combined.png', 'H205AOTN_upper_combined.png', 'H5EFRXCQ_lower_combined.png', 'H5EFRXCQ_upper_combined.png', 'H79I7NHI_lower_combined.png', 'H79I7NHI_upper_combined.png', 'H83RDQT1_lower_combined.png', 'H83RDQT1_upper_combined.png', 'H8RSX6T2_lower_combined.png', 'H8RSX6T2_upper_combined.png', 'H9EM9IEE_lower_combined.png', 'H9EM9IEE_upper_combined.png', 'HCGXNZ4O_lower_combined.png', 'HCGXNZ4O_upper_combined.png', 'HDVYC7UQ_lower_combined.png', 'HDVYC7UQ_upper_combined.png', 'HE565KIU_lower_combined.png', 'HE565KIU_upper_combined.png', 'HJ9PT4DQ_lower_combined.png', 'HJ9PT4DQ_upper_combined.png', 'HJMHHU6N_lower_combined.png', 'HJMHHU6N_upper_combined.png', 'HLA5ODT6_lower_combined.png', 'HLA5ODT6_upper_combined.png', 'HM1A4QZR_lower_combined.png', 'HM1A4QZR_upper_combined.png', 'HPVH85IJ_lower_combined.png', 'HPVH85IJ_upper_combined.png', 'HQN0ZJDP_lower_combined.png', 'HQN0ZJDP_upper_combined.png', 'HSY4YB1J_lower_combined.png', 'HSY4YB1J_upper_combined.png', 'HT9XQCYL_lower_combined.png', 'HT9XQCYL_upper_combined.png', 'HWO9T72O_lower_combined.png', 'HWO9T72O_upper_combined.png', 'HZH8DYC7_lower_combined.png', 'HZH8DYC7_upper_combined.png', 'I004CBAW_lower_combined.png', 'I004CBAW_upper_combined.png', 'I04GI3H5_lower_combined.png', 'I04GI3H5_upper_combined.png', 'I13W39XQ_lower_combined.png', 'I13W39XQ_upper_combined.png', 'I3PL4JRE_lower_combined.png', 'I3PL4JRE_upper_combined.png', 'I3T81ZK8_lower_combined.png', 'I3T81ZK8_upper_combined.png', 'I8CPN1UN_lower_combined.png', 'I8CPN1UN_upper_combined.png', 'I8V5YEDR_lower_combined.png', 'I8V5YEDR_upper_combined.png', 'I9OKVRWS_lower_combined.png', 'I9OKVRWS_upper_combined.png', 'I9TWNSD1_lower_combined.png', 'I9TWNSD1_upper_combined.png', 'IAKXN91M_lower_combined.png', 'IAKXN91M_upper_combined.png', 'IBG3DGZJ_lower_combined.png', 'IBG3DGZJ_upper_combined.png', 'IF1GKK1E_lower_combined.png', 'IF1GKK1E_upper_combined.png', 'IFB97TD3_lower_combined.png', 'IFB97TD3_upper_combined.png', 'IFVHVDFO_lower_combined.png', 'IFVHVDFO_upper_combined.png', 'IHKL3Y8N_lower_combined.png', 'IHKL3Y8N_upper_combined.png', 'IKZNMT4Z_lower_combined.png', 'IKZNMT4Z_upper_combined.png', 'IMFA1IHI_lower_combined.png', 'IMFA1IHI_upper_combined.png', 'IODU1NRC_lower_combined.png', 'IODU1NRC_upper_combined.png', 'ISX690IR_lower_combined.png', 'ISX690IR_upper_combined.png', 'ITB1L2PL_lower_combined.png', 'ITB1L2PL_upper_combined.png', 'ITTMBOHC_lower_combined.png', 'ITTMBOHC_upper_combined.png', 'IUIE4BYI_lower_combined.png', 'IUIE4BYI_upper_combined.png', 'J1A5FRQN_lower_combined.png', 'J1A5FRQN_upper_combined.png', 'J8CXVF59_lower_combined.png', 'J8CXVF59_upper_combined.png', 'J8YGBFK2_lower_combined.png', 'J8YGBFK2_upper_combined.png', 'JDRJHMFZ_lower_combined.png', 'JDRJHMFZ_upper_combined.png', 'JFQDC74U_lower_combined.png', 'JFQDC74U_upper_combined.png', 'JFZUIR52_lower_combined.png', 'JFZUIR52_upper_combined.png', 'JJ19KE8W_lower_combined.png', 'JJ19KE8W_upper_combined.png', 'JJEIMAPR_lower_combined.png', 'JJEIMAPR_upper_combined.png', 'JKLNUYPM_lower_combined.png', 'JKLNUYPM_upper_combined.png', 'JRG6Y6E0_lower_combined.png', 'JRG6Y6E0_upper_combined.png', 'JTK0GQ2B_lower_combined.png', 'JTK0GQ2B_upper_combined.png', 'JXVWXY0L_lower_combined.png', 'JXVWXY0L_upper_combined.png', 'JY7F4AAF_lower_combined.png', 'JY7F4AAF_upper_combined.png', 'K23X2RAU_lower_combined.png', 'K23X2RAU_upper_combined.png', 'K2T9J4YW_lower_combined.png', 'K2T9J4YW_upper_combined.png', 'K4BAII5F_lower_combined.png', 'K4BAII5F_upper_combined.png', 'K4E9RKYU_lower_combined.png', 'K4E9RKYU_upper_combined.png', 'K6LK1YRK_lower_combined.png', 'K6LK1YRK_upper_combined.png', 'K70NYZYE_lower_combined.png', 'K70NYZYE_upper_combined.png', 'K8SZYQ72_lower_combined.png', 'K8SZYQ72_upper_combined.png', 'K9X2TVDE_lower_combined.png', 'K9X2TVDE_upper_combined.png', 'KAHYFGOY_lower_combined.png', 'KAHYFGOY_upper_combined.png', 'karklina_lower_combined.png', 'karklina_upper_combined.png', 'KBGVMAF7_lower_combined.png', 'KBGVMAF7_upper_combined.png', 'KBN31K7D_lower_combined.png', 'KBN31K7D_upper_combined.png', 'KC1RZ7D9_lower_combined.png', 'KC1RZ7D9_upper_combined.png', 'KHLZKW97_lower_combined.png', 'KHLZKW97_upper_combined.png', 'KKBN198S_lower_combined.png', 'KKBN198S_upper_combined.png', 'KNIH5AER_lower_combined.png', 'KNIH5AER_upper_combined.png', 'KS0FGXGB_lower_combined.png', 'KS0FGXGB_upper_combined.png', 'KS84R9LU_lower_combined.png', 'KS84R9LU_upper_combined.png', 'KSHNN3DV_lower_combined.png', 'KSHNN3DV_upper_combined.png', 'KW108G1P_lower_combined.png', 'KW108G1P_upper_combined.png', 'KWWQJ60M_lower_combined.png', 'KWWQJ60M_upper_combined.png', 'KX9HKC3D_lower_combined.png', 'KX9HKC3D_upper_combined.png', 'L1WXOSF6_lower_combined.png', 'L1WXOSF6_upper_combined.png', 'L428SD7J_lower_combined.png', 'L428SD7J_upper_combined.png', 'L7Z4TSKP_lower_combined.png', 'L7Z4TSKP_upper_combined.png', 'L8IYFLQP_lower_combined.png', 'L8IYFLQP_upper_combined.png', 'L9EKTZMV_lower_combined.png', 'L9EKTZMV_upper_combined.png', 'LA67YYVJ_lower_combined.png', 'LA67YYVJ_upper_combined.png', 'LAFJJKAE_lower_combined.png', 'LAFJJKAE_upper_combined.png', 'LBY32W80_lower_combined.png', 'LBY32W80_upper_combined.png', 'LE4E8YWJ_lower_combined.png', 'LE4E8YWJ_upper_combined.png', 'LGADV15G_lower_combined.png', 'LGADV15G_upper_combined.png', 'LHP32GAK_lower_combined.png', 'LHP32GAK_upper_combined.png', 'LLJGPB8I_lower_combined.png', 'LLJGPB8I_upper_combined.png', 'LNELLH3H_lower_combined.png', 'LNELLH3H_upper_combined.png', 'LNQ2C7W2_lower_combined.png', 'LNQ2C7W2_upper_combined.png', 'LOVM549U_lower_combined.png', 'LOVM549U_upper_combined.png', 'LPISNMTY_lower_combined.png', 'LPISNMTY_upper_combined.png', 'LSMGKLAH_lower_combined.png', 'LSMGKLAH_upper_combined.png', 'LUQGC700_lower_combined.png', 'LUQGC700_upper_combined.png', 'LWUJBHYO_lower_combined.png', 'LWUJBHYO_upper_combined.png', 'M357DNS7_lower_combined.png', 'M357DNS7_upper_combined.png', 'M4HYU284_lower_combined.png', 'M4HYU284_upper_combined.png', 'M7RTPNPC_lower_combined.png', 'M7RTPNPC_upper_combined.png', 'MAIPESOV_lower_combined.png', 'MAIPESOV_upper_combined.png', 'MBCDT4BG_lower_combined.png', 'MBCDT4BG_upper_combined.png', 'MC39MU3H_lower_combined.png', 'MC39MU3H_upper_combined.png', 'mccarthy_lower_combined.png', 'mccarthy_upper_combined.png', 'MGYSCSI9_lower_combined.png', 'MGYSCSI9_upper_combined.png', 'MHDYIWUS_lower_combined.png', 'MHDYIWUS_upper_combined.png', 'MHG8FM6A_lower_combined.png', 'MHG8FM6A_upper_combined.png', 'MNIAB8K3_lower_combined.png', 'MNIAB8K3_upper_combined.png', 'MPLQN22P_lower_combined.png', 'MPLQN22P_upper_combined.png']\n"
     ]
    }
   ],
   "source": [
    "# Path to the folder containing the sample images \n",
    "image_folder = os.path.join(\"..\", \"Data\", \"Raw Data\", \"Sample images\")\n",
    "\n",
    "# Check if the folder exists and create it if it doesn't \n",
    "image_files = glob.glob(os.path.join(image_folder, \"*.png\")) + \\\n",
    "              glob.glob(os.path.join(image_folder, \"*.jpg\")) + \\\n",
    "              glob.glob(os.path.join(image_folder, \"*.jpeg\"))\n",
    "\n",
    "# Load images into a dictionary {filename: image_object} \n",
    "images = {os.path.basename(file): Image.open(file) for file in image_files}\n",
    "\n",
    "# Print the number of images loaded and their names\n",
    "print(f\"Loaded {len(images)} images from {image_folder}: {list(images.keys())}\")\n"
   ]
  },
  {
   "cell_type": "markdown",
   "metadata": {},
   "source": [
    "# Display an image"
   ]
  },
  {
   "cell_type": "code",
   "execution_count": 4,
   "metadata": {},
   "outputs": [
    {
     "data": {
      "image/png": "[encoded data removed]",
      "text/plain": [
       "<Figure size 640x480 with 1 Axes>"
      ]
     },
     "metadata": {},
     "output_type": "display_data"
    }
   ],
   "source": [
    "# Display the first image\n",
    "if images:\n",
    "    sample_name, sample_img = next(iter(images.items()))\n",
    "    plt.imshow(sample_img)\n",
    "    plt.title(sample_name)\n",
    "    plt.axis(\"off\")\n",
    "    plt.show()\n",
    "else:\n",
    "    print(\"No images found. Check the folder path again.\")"
   ]
  },
  {
   "cell_type": "markdown",
   "metadata": {},
   "source": [
    "# Crop and Flip of images and renaming of images"
   ]
  },
  {
   "cell_type": "code",
   "execution_count": 5,
   "metadata": {},
   "outputs": [
    {
     "name": "stdout",
     "output_type": "stream",
     "text": [
      "✅ All images have dimensions: 3072x1024\n",
      "✅ Processed 1351 images and saved to ..\\Data\\Clean Data\n"
     ]
    }
   ],
   "source": [
    "# Define the paths to the sample images and the destination for the processed images\n",
    "# Define the source and destination folders\n",
    "\n",
    "source_folder = os.path.join(\"..\", \"Data\", \"Raw Data\", \"Sample images\")\n",
    "clean_data_folder = os.path.join(\"..\", \"Data\", \"Clean Data\")\n",
    "overbite_folder = os.path.join(clean_data_folder, \"Overbite Data\")\n",
    "bolton_folder = os.path.join(clean_data_folder, \"Bolton Data\")\n",
    "\n",
    "\n",
    "# Make sure the output folder exists\n",
    "# Create the folders if they don't exist\n",
    "os.makedirs(clean_data_folder, exist_ok=True)\n",
    "os.makedirs(overbite_folder, exist_ok=True)\n",
    "os.makedirs(bolton_folder, exist_ok=True)\n",
    "\n",
    "# laod images from the source folder \n",
    "image_files = [f for f in os.listdir(source_folder) if f.lower().endswith((\".png\", \".jpg\", \".jpeg\"))] # f.lower er bare lowercase\n",
    "\n",
    "# Chech dimensions of the images\n",
    "width, height = None, None # Initialisation to None \n",
    "\n",
    "for file in image_files:\n",
    "    image_path = os.path.join(source_folder, file) # Combine source_folder and file to get the full path\n",
    "    img = Image.open(image_path) # open the image \n",
    "    \n",
    "    if width is None and height is None:\n",
    "        width, height = img.size  # Dimension of the first image (For comparison with others) \n",
    "    else:\n",
    "        assert img.size == (width, height), f\"Image {file} has different dimensions!\" # Check if the dimensions are the same \n",
    "\n",
    "print(f\"✅ All images have dimensions: {width}x{height}\")\n",
    "\n",
    "\n",
    "# Split width into 3 equal parts\n",
    "split_width = width // 3  # Integer division to get the width of each part\n",
    "\n",
    "for file in image_files:\n",
    "    image_path = os.path.join(source_folder, file)\n",
    "    img = Image.open(image_path)\n",
    "    \n",
    "    base_name = os.path.splitext(file)[0]\n",
    "\n",
    "    # Remove \"_combined\" from the base name if it exists\n",
    "    if \"_combined\" in base_name:\n",
    "        base_name = base_name.replace(\"_combined\", \"\")\n",
    "\n",
    "    # Check for suffixes \n",
    "    suffixes = [\"lower\", \"upper\", \"middle\"]\n",
    "    parts = base_name.split(\"_\")\n",
    "\n",
    "    if parts[-1] in suffixes:\n",
    "        suffix = parts[-1]\n",
    "        base_name = \"_\".join(parts[:-1])  # Remove the suffix from the base name temporarily to avoid duplication\n",
    "    else:\n",
    "        suffix = \"\"\n",
    "\n",
    "    # Crop left, middle, right parts\n",
    "    left_part = img.crop((0, 0, split_width, height))\n",
    "    middle_part = img.crop((split_width, 0, 2 * split_width, height))\n",
    "    right_part = img.crop((2 * split_width, 0, width, height))\n",
    "\n",
    "    # Flip right image \n",
    "    right_part = right_part.transpose(Image.FLIP_LEFT_RIGHT)\n",
    "\n",
    "    # Save the images with appropriate names \n",
    "    left_filename = f\"{base_name}_{suffix}_left.png\" if suffix else f\"{base_name}_left.png\"\n",
    "    middle_filename = f\"{base_name}_{suffix}_middle.png\" if suffix else f\"{base_name}_middle.png\"\n",
    "    right_filename = f\"{base_name}_{suffix}_right.png\" if suffix else f\"{base_name}_right.png\"\n",
    "\n",
    "    # Save the images to the respective folders\n",
    "    left_part.save(os.path.join(overbite_folder, left_filename))\n",
    "    middle_part.save(os.path.join(bolton_folder, middle_filename))\n",
    "    right_part.save(os.path.join(overbite_folder, right_filename))\n",
    "\n",
    "print(f\"✅ Processed {len(image_files)} images and saved to {clean_data_folder}\")"
   ]
  },
  {
   "cell_type": "markdown",
   "metadata": {},
   "source": [
    "# CSV filenames changed, and right image coordinates are flipped"
   ]
  },
  {
   "cell_type": "code",
   "execution_count": 6,
   "metadata": {},
   "outputs": [
    {
     "name": "stdout",
     "output_type": "stream",
     "text": [
      "✅ Detected image width: 1024\n",
      "✅ Updated annotations saved to: ..\\Data\\Clean Data\\Overbite Data\\Updated_Labels.csv\n"
     ]
    }
   ],
   "source": [
    "# Load the original CSV file and process it\n",
    "csv_path = os.path.join(\"..\", \"Data\", \"Raw Data\", \"Labels as of 28-02-2025 (FINAL - for now).csv\") # Original csv file\n",
    "output_csv_path = os.path.join(\"..\", \"Data\", \"Clean Data\", \"Overbite Data\", \"Updated_Labels.csv\") # csv file after processing (output)\n",
    "processed_images_folder = os.path.join(\"..\", \"Data\", \"Clean Data\", \"Overbite Data\") # Processed images folder\n",
    "\n",
    "# load the original csv file\n",
    "df = pd.read_csv(csv_path)\n",
    "\n",
    "# Check if the CSV file has the expected columns\n",
    "df[[\"X1\", \"Y1\", \"X2\", \"Y2\"]] = df[[\"X1\", \"Y1\", \"X2\", \"Y2\"]].astype(int)\n",
    "\n",
    "# Check if the processed images folder exists\n",
    "sample_image_file = next(iter(os.listdir(processed_images_folder)))\n",
    "sample_image_path = os.path.join(processed_images_folder, sample_image_file)\n",
    "\n",
    "with Image.open(sample_image_path) as img:\n",
    "    image_width, _ = img.size\n",
    "\n",
    "print(f\"✅ Detected image width: {image_width}\")\n",
    "\n",
    "# Create a new list to store updated annotations\n",
    "updated_annotations = []\n",
    "\n",
    "# Iterate through the origanle csv and update annotations \n",
    "for _, row in df.iterrows():\n",
    "    filename, x1, y1, x2, y2 = row[\"Filename\"], row[\"X1\"], row[\"Y1\"], row[\"X2\"], row[\"Y2\"]\n",
    "    \n",
    "    # Extract base name (removes \"_combined.png\")\n",
    "    base_name = filename.replace(\"_combined.png\", \"\")\n",
    "\n",
    "    #Define new filenames (Adds _left.png/_right.png to the base name)\n",
    "    left_filename = f\"{base_name}_left.png\"\n",
    "    right_filename = f\"{base_name}_right.png\"\n",
    "\n",
    "    # Append left image (X1, Y1 unchanged)\n",
    "    updated_annotations.append([left_filename, x1, y1]) # Inserts a row with f\"{base_name}_left.png\", X-coordinate, Y-coordinate\n",
    "\n",
    "\n",
    "    # The original image width is 3072, since the original CSV annotation was from that dimension\n",
    "    original_image_width = 3072  \n",
    "    \n",
    "    # Flip X2 for right image\n",
    "    flipped_x2 = (original_image_width - 1) - x2\n",
    "\n",
    "    # Append right image (X2 flipped, Y2 unchanged)\n",
    "    updated_annotations.append([right_filename, flipped_x2, y2]) # Inserts a row with f\"{base_name}_right.png\", X-coordinate (flipped), Y-coordinate\n",
    "\n",
    "# Convert to DataFrame and save\n",
    "updated_df = pd.DataFrame(updated_annotations, columns=[\"Filename\", \"X\", \"Y\"])\n",
    "updated_df.to_csv(output_csv_path, index=False)\n",
    "\n",
    "print(f\"✅ Updated annotations saved to: {output_csv_path}\")"
   ]
  },
  {
   "cell_type": "markdown",
   "metadata": {},
   "source": [
    "# Formula for coordinate flip"
   ]
  },
  {
   "attachments": {
    "image.png": {
     "image/png": "[encoded data removed]"
    }
   },
   "cell_type": "markdown",
   "metadata": {},
   "source": [
    "![image.png](attachment:image.png)"
   ]
  },
  {
   "cell_type": "markdown",
   "metadata": {},
   "source": [
    "# Example of coordinat flip\n",
    "\n",
    "So for a point e.g\n",
    "00OMSZGW_lower_combined.png,777,492,2310,487\n",
    "\n",
    "We first split the csv data getting:\n",
    "\n",
    "00OMSZGW_lower_left.png,777,492\n",
    "\n",
    "00OMSZGW_lower_right.png,2310,487 \n",
    "\n",
    "And we must alter 00OMSZGW_lower_right.png,2310,487 \n",
    "\n",
    "So we do:\n",
    "\n",
    "$3072-1-2310=761$\n",
    "\n",
    "Thus having the new x-coordinate\n"
   ]
  },
  {
   "cell_type": "markdown",
   "metadata": {},
   "source": [
    "# Grouping of data by pairs "
   ]
  },
  {
   "cell_type": "code",
   "execution_count": 7,
   "metadata": {},
   "outputs": [
    {
     "name": "stdout",
     "output_type": "stream",
     "text": [
      "✅ 714 images moved to 'Unannotated Data Pairs'\n",
      "✅ 1588 images moved to 'Annotated Data Pairs'\n",
      "✅ 400 images moved to 'Annotated Verification Data Pairs'\n"
     ]
    }
   ],
   "source": [
    "# Define the source and destination folders\n",
    "clean_data_folder = os.path.join(\"..\", \"Data\", \"Clean Data\")\n",
    "overbite_folder = os.path.join(clean_data_folder, \"Overbite Data\")\n",
    "\n",
    "# Create folders for the new grouping of images \n",
    "unannotated_folder = os.path.join(overbite_folder, \"Unannotated Data Pairs\")\n",
    "annotated_folder = os.path.join(overbite_folder, \"Annotated Data Pairs\")\n",
    "verification_folder = os.path.join(overbite_folder, \"Annotated Verification Data Pairs\")\n",
    "\n",
    "# Ensure the folders exist\n",
    "os.makedirs(unannotated_folder, exist_ok=True)\n",
    "os.makedirs(annotated_folder, exist_ok=True)\n",
    "os.makedirs(verification_folder, exist_ok=True)\n",
    "\n",
    "# Load the CSV file with labels\n",
    "csv_path = os.path.join(clean_data_folder, \"Overbite Data\", \"Updated_Labels.csv\")\n",
    "df = pd.read_csv(csv_path)\n",
    "\n",
    "# Extract the base name from the filename\n",
    "def extract_base_name(filename):\n",
    "    return filename.split(\"_\")[0]\n",
    "\n",
    "# Count occurrences of each base name in \"Updated_Labels.csv\"\n",
    "base_name_counts = {}\n",
    "for fname in df.iloc[:, 0]:\n",
    "    base = extract_base_name(str(fname).strip())\n",
    "    base_name_counts[base] = base_name_counts.get(base, 0) + 1\n",
    "\n",
    "# Find base names with 4 occurrences\n",
    "fully_annotated_keys = {k for k, v in base_name_counts.items() if v == 4}\n",
    "\n",
    "# Get all images in the \"Overbite Data\" folder\n",
    "all_images = [f for f in os.listdir(overbite_folder) if f.lower().endswith((\".png\", \".jpg\", \".jpeg\"))]\n",
    "\n",
    "# Group images by their base name\n",
    "image_groups = {}\n",
    "for img in all_images:\n",
    "    base_name = extract_base_name(img)\n",
    "    image_groups.setdefault(base_name, []).append(img)\n",
    "\n",
    "# Filter groups based on the fully annotated keys (4 occurrences)\n",
    "annotated_groups = [group for key, group in image_groups.items() if key in fully_annotated_keys]\n",
    "unannotated_groups = [group for key, group in image_groups.items() if key not in fully_annotated_keys]\n",
    "\n",
    "# Move unannotated groups to \"Unannotated Data Pairs\"\n",
    "for group in unannotated_groups:\n",
    "    for img in group:\n",
    "        shutil.move(os.path.join(overbite_folder, img), os.path.join(unannotated_folder, img))\n",
    "\n",
    "# Shuffle annotated groups for random distribution\n",
    "random.shuffle(annotated_groups)\n",
    "\n",
    "# Split 80/20 for annotated groups\n",
    "split_index = int(len(annotated_groups) * 0.8)\n",
    "annotated_train = annotated_groups[:split_index]\n",
    "annotated_verification = annotated_groups[split_index:]\n",
    "\n",
    "# Move annotated groups to \"Annotated Data Pairs\" and \"Annotated Verification Data Pairs\"\n",
    "for group in annotated_train:\n",
    "    for img in group:\n",
    "        shutil.move(os.path.join(overbite_folder, img), os.path.join(annotated_folder, img))\n",
    "\n",
    "for group in annotated_verification:\n",
    "    for img in group:\n",
    "        shutil.move(os.path.join(overbite_folder, img), os.path.join(verification_folder, img))\n",
    "\n",
    "print(f\"✅ {sum(len(g) for g in unannotated_groups)} images moved to 'Unannotated Data Pairs'\")\n",
    "print(f\"✅ {sum(len(g) for g in annotated_train)} images moved to 'Annotated Data Pairs'\")\n",
    "print(f\"✅ {sum(len(g) for g in annotated_verification)} images moved to 'Annotated Verification Data Pairs'\")"
   ]
  },
  {
   "cell_type": "markdown",
   "metadata": {},
   "source": [
    "# Video of data"
   ]
  },
  {
   "cell_type": "code",
   "execution_count": null,
   "metadata": {},
   "outputs": [
    {
     "name": "stdout",
     "output_type": "stream",
     "text": [
      "✅ Video gemt: ..\\Data\\Clean Data\\annotated_video.mp4\n"
     ]
    }
   ],
   "source": [
    "import os\n",
    "import cv2\n",
    "import pandas as pd\n",
    "import numpy as np\n",
    "from PIL import Image\n",
    "import matplotlib.pyplot as plt\n",
    "import glob\n",
    "\n",
    "# Stier til mapper\n",
    "clean_data_folder = os.path.join(\"..\", \"Data\", \"Clean Data\")\n",
    "overbite_folder = os.path.join(clean_data_folder, \"Overbite Data\")\n",
    "annotated_folders = [\n",
    "    os.path.join(overbite_folder, \"Annotated Data Pairs\"),\n",
    "    os.path.join(overbite_folder, \"Annotated Verication data\")\n",
    "]\n",
    "\n",
    "# Indlæs CSV-filen med annoteringer\n",
    "csv_path = os.path.join(clean_data_folder, \"Overbite Data\", \"Updated_Labels.csv\")\n",
    "df = pd.read_csv(csv_path)\n",
    "\n",
    "# Hent kun de relevante kolonner\n",
    "image_filenames = df.iloc[:, 0].values  # Kolonne 1: Filnavne\n",
    "coords = df.iloc[:, 1:].values  # Resten: x, y koordinater\n",
    "\n",
    "# Opret en liste til video frames\n",
    "frames = []\n",
    "\n",
    "# Gennemgå billeder i de annoterede mapper\n",
    "for folder in annotated_folders:\n",
    "    image_files = glob.glob(os.path.join(folder, \"*.png\")) + \\\n",
    "                  glob.glob(os.path.join(folder, \"*.jpg\")) + \\\n",
    "                  glob.glob(os.path.join(folder, \"*.jpeg\"))\n",
    "    \n",
    "    for img_path in image_files:\n",
    "        img_name = os.path.basename(img_path)\n",
    "        \n",
    "        if img_name not in image_filenames:\n",
    "            continue  # Spring billeder over, der ikke har annoteringer\n",
    "        \n",
    "        # Indlæs billede\n",
    "        img = Image.open(img_path)\n",
    "        img = np.array(img)\n",
    "        \n",
    "        # Find koordinaterne for dette billede\n",
    "        index = np.where(image_filenames == img_name)[0][0]\n",
    "        image_coords = coords[index].reshape(-1, 2)  # Gør dem til (x, y) par\n",
    "        \n",
    "        # Plot billede\n",
    "        fig, ax = plt.subplots()\n",
    "        ax.imshow(img, cmap='gray')\n",
    "        ax.scatter(image_coords[:, 0], image_coords[:, 1], c='red', s=1)  # Små prikker\n",
    "        ax.set_title(f\"Filename: {img_name}\")\n",
    "        \n",
    "        # Tilføj en legend for x-y koordinater\n",
    "        legend_labels = [f\"({int(x)}, {int(y)})\" for x, y in image_coords[:5]]  # Vis kun de første 5 for plads\n",
    "        for i, (x, y) in enumerate(image_coords[:5]):\n",
    "            ax.text(x, y, legend_labels[i], fontsize=6, color='yellow', ha='right')\n",
    "        \n",
    "        ax.axis(\"off\")\n",
    "        \n",
    "        # Gem frame som billede\n",
    "        frame_path = \"temp_frame.png\"\n",
    "        plt.savefig(frame_path, bbox_inches='tight', pad_inches=0)\n",
    "\n",
    "        plt.close()\n",
    "        \n",
    "        # Indlæs den gemte frame\n",
    "        frame = cv2.imread(frame_path)\n",
    "        frames.append(frame)\n",
    "\n",
    "# Opret video\n",
    "video_path = os.path.join(clean_data_folder, \"Overbite Data\", \"annotated_video.mp4\")\n",
    "height, width, _ = frames[0].shape\n",
    "fps = 5  # Justér efter behov\n",
    "\n",
    "fourcc = cv2.VideoWriter_fourcc(*'H264')\n",
    "video = cv2.VideoWriter(video_path, fourcc, fps, (width, height))\n",
    "\n",
    "for frame in frames:\n",
    "    video.write(frame)\n",
    "\n",
    "video.release()\n",
    "\n",
    "os.remove(frame_path) # Slet temp filen\n",
    "print(f\"✅ Video gemt: {video_path}\")"
   ]
  }
 ],
 "metadata": {
  "kernelspec": {
   "display_name": ".venv",
   "language": "python",
   "name": "python3"
  },
  "language_info": {
   "codemirror_mode": {
    "name": "ipython",
    "version": 3
   },
   "file_extension": ".py",
   "mimetype": "text/x-python",
   "name": "python",
   "nbconvert_exporter": "python",
   "pygments_lexer": "ipython3",
   "version": "3.12.4"
  }
 },
 "nbformat": 4,
 "nbformat_minor": 2
}
